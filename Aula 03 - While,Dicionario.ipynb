{
 "cells": [
  {
   "cell_type": "markdown",
   "metadata": {},
   "source": [
    "# Aula 03"
   ]
  },
  {
   "cell_type": "markdown",
   "metadata": {},
   "source": [
    "## While"
   ]
  },
  {
   "cell_type": "code",
   "execution_count": 3,
   "metadata": {},
   "outputs": [
    {
     "name": "stdout",
     "output_type": "stream",
     "text": [
      "Digite um numero limite: 10\n",
      "0\n",
      "1\n",
      "2\n",
      "3\n",
      "4\n",
      "5\n",
      "6\n",
      "7\n",
      "8\n",
      "9\n",
      "10\n"
     ]
    }
   ],
   "source": [
    "limite = int(input(\"Digite um numero limite: \"))\n",
    "x = 0\n",
    "\n",
    "while x <= limite:\n",
    "    print(x)\n",
    "    x += 1"
   ]
  },
  {
   "cell_type": "code",
   "execution_count": 4,
   "metadata": {},
   "outputs": [
    {
     "name": "stdout",
     "output_type": "stream",
     "text": [
      "Digite um valor menor que 10: 15\n",
      "Digite um valor menor que 10: 56\n",
      "Digite um valor menor que 10: 54\n",
      "Digite um valor menor que 10: 2546\n",
      "Digite um valor menor que 10: 46\n",
      "Digite um valor menor que 10: 10\n",
      "Digite um valor menor que 10: 1\n",
      "ok\n"
     ]
    }
   ],
   "source": [
    "valor = int(input(\"Digite um valor menor que 10: \"))\n",
    "\n",
    "while valor >= 10:\n",
    "    valor = int(input(\"Digite um valor menor que 10: \"))\n",
    "print('ok')"
   ]
  },
  {
   "cell_type": "markdown",
   "metadata": {},
   "source": [
    "## Do..While"
   ]
  },
  {
   "cell_type": "code",
   "execution_count": 6,
   "metadata": {},
   "outputs": [
    {
     "name": "stdout",
     "output_type": "stream",
     "text": [
      "-3\n",
      "-2\n",
      "-1\n",
      "0\n",
      "1\n",
      "2\n",
      "3\n"
     ]
    }
   ],
   "source": [
    "i = -3\n",
    "\n",
    "while True:\n",
    "    print(i)\n",
    "    i += 1\n",
    "    \n",
    "    if i > 3:\n",
    "        break"
   ]
  },
  {
   "cell_type": "markdown",
   "metadata": {},
   "source": [
    "## Tuplas"
   ]
  },
  {
   "cell_type": "code",
   "execution_count": 7,
   "metadata": {},
   "outputs": [],
   "source": [
    "pi = (3.141592624)"
   ]
  },
  {
   "cell_type": "code",
   "execution_count": 11,
   "metadata": {},
   "outputs": [
    {
     "name": "stdout",
     "output_type": "stream",
     "text": [
      "10\n",
      "20\n",
      "30\n"
     ]
    }
   ],
   "source": [
    "tupla = (10,20,30)\n",
    "a,b,c = tupla\n",
    "print(a)\n",
    "print(b)\n",
    "print(c)"
   ]
  },
  {
   "cell_type": "markdown",
   "metadata": {},
   "source": [
    "## Dicionario"
   ]
  },
  {
   "cell_type": "code",
   "execution_count": 12,
   "metadata": {},
   "outputs": [
    {
     "data": {
      "text/plain": [
       "{'a': 1, 'b': 2, 'c': 3, 'd': 4}"
      ]
     },
     "execution_count": 12,
     "metadata": {},
     "output_type": "execute_result"
    }
   ],
   "source": [
    "dicionario = {\n",
    "    \"a\":1,\n",
    "    \"b\":2,\n",
    "    \"c\":3,\n",
    "    \"d\":4\n",
    "}\n",
    "\n",
    "dicionario"
   ]
  },
  {
   "cell_type": "code",
   "execution_count": 14,
   "metadata": {},
   "outputs": [
    {
     "data": {
      "text/plain": [
       "2"
      ]
     },
     "execution_count": 14,
     "metadata": {},
     "output_type": "execute_result"
    }
   ],
   "source": [
    "dicionario['b']"
   ]
  },
  {
   "cell_type": "code",
   "execution_count": 17,
   "metadata": {},
   "outputs": [
    {
     "name": "stdout",
     "output_type": "stream",
     "text": [
      "Chave: e\n",
      "Valor: 5\n"
     ]
    },
    {
     "data": {
      "text/plain": [
       "{'a': 1, 'b': 2, 'c': 3, 'd': 4, 'e': 5}"
      ]
     },
     "execution_count": 17,
     "metadata": {},
     "output_type": "execute_result"
    }
   ],
   "source": [
    "x = input(\"Chave: \")\n",
    "y = int(input('Valor: '))\n",
    "\n",
    "dicionario[x] = y\n",
    "dicionario"
   ]
  },
  {
   "cell_type": "code",
   "execution_count": 19,
   "metadata": {},
   "outputs": [
    {
     "data": {
      "text/plain": [
       "{'a': 1, 'b': 2, 'c': 3, 'd': 4}"
      ]
     },
     "execution_count": 19,
     "metadata": {},
     "output_type": "execute_result"
    }
   ],
   "source": [
    "del dicionario['e']\n",
    "dicionario"
   ]
  },
  {
   "cell_type": "code",
   "execution_count": 20,
   "metadata": {},
   "outputs": [
    {
     "data": {
      "text/plain": [
       "dict_keys(['a', 'b', 'c', 'd'])"
      ]
     },
     "execution_count": 20,
     "metadata": {},
     "output_type": "execute_result"
    }
   ],
   "source": [
    "dicionario.keys()"
   ]
  },
  {
   "cell_type": "code",
   "execution_count": 21,
   "metadata": {},
   "outputs": [
    {
     "data": {
      "text/plain": [
       "dict_values([1, 2, 3, 4])"
      ]
     },
     "execution_count": 21,
     "metadata": {},
     "output_type": "execute_result"
    }
   ],
   "source": [
    "dicionario.values()"
   ]
  },
  {
   "cell_type": "code",
   "execution_count": 25,
   "metadata": {},
   "outputs": [
    {
     "data": {
      "text/plain": [
       "dict_items([('a', 1), ('b', 2), ('c', 3), ('d', 4)])"
      ]
     },
     "execution_count": 25,
     "metadata": {},
     "output_type": "execute_result"
    }
   ],
   "source": [
    "dicionario.items()"
   ]
  },
  {
   "cell_type": "code",
   "execution_count": 27,
   "metadata": {},
   "outputs": [
    {
     "name": "stdout",
     "output_type": "stream",
     "text": [
      "A chave a tem valor 1\n",
      "A chave b tem valor 2\n",
      "A chave c tem valor 3\n",
      "A chave d tem valor 4\n"
     ]
    }
   ],
   "source": [
    "for chave,valor in dicionario.items():\n",
    "    print(\"A chave {} tem valor {}\".format(chave,valor))"
   ]
  },
  {
   "cell_type": "code",
   "execution_count": 31,
   "metadata": {},
   "outputs": [
    {
     "name": "stdout",
     "output_type": "stream",
     "text": [
      "Digite um valor de 1 a 4 3\n",
      "A chave c pertence ao valor que voce colocou\n"
     ]
    }
   ],
   "source": [
    "val = int(input(\"Digite um valor de 1 a 4: \"))\n",
    "for chave,valor in dicionario.items():\n",
    "    if valor == val:\n",
    "        print(\"A chave {} pertence ao valor que voce colocou\".format(chave))"
   ]
  },
  {
   "cell_type": "code",
   "execution_count": 15,
   "metadata": {},
   "outputs": [
    {
     "data": {
      "text/plain": [
       "{'lista': [1, 2, 3, 4],\n",
       " 'tupla': 3.141592624,\n",
       " 'dicionario': {'a': 1, 'b': 2, 'c': 3, 'd': 4},\n",
       " 'inteiro': 1}"
      ]
     },
     "execution_count": 15,
     "metadata": {},
     "output_type": "execute_result"
    }
   ],
   "source": [
    "dicionario2 = {\n",
    "    \"lista\":[1,2,3,4],\n",
    "    \"tupla\":(3.141592624),\n",
    "    \"dicionario\":{\n",
    "    \"a\":1,\n",
    "    \"b\":2,\n",
    "    \"c\":3,\n",
    "    \"d\":4\n",
    "},\n",
    "    \"inteiro\":1\n",
    "}\n",
    "\n",
    "dicionario2"
   ]
  },
  {
   "cell_type": "markdown",
   "metadata": {},
   "source": [
    "## Enumerate"
   ]
  },
  {
   "cell_type": "code",
   "execution_count": 33,
   "metadata": {},
   "outputs": [
    {
     "name": "stdout",
     "output_type": "stream",
     "text": [
      "0 10000\n",
      "1 20000\n",
      "2 100000\n"
     ]
    }
   ],
   "source": [
    "salario = [10000,20000,100000]\n",
    "\n",
    "for indice,valor in enumerate(salario):\n",
    "    print(\"{} {}\".format(indice,valor))"
   ]
  },
  {
   "cell_type": "code",
   "execution_count": 2,
   "metadata": {},
   "outputs": [
    {
     "data": {
      "text/plain": [
       "{0: 1000, 1: 5500, 2: 6200, 3: 10000, 4: 20000, 5: 100000}"
      ]
     },
     "execution_count": 2,
     "metadata": {},
     "output_type": "execute_result"
    }
   ],
   "source": [
    "salario2 = [1000,5500,6200,10000,20000,100000]\n",
    "dic_salario = {}\n",
    "\n",
    "for indice,valor in enumerate(salario2):\n",
    "    dic_salario[indice] = valor\n",
    "dic_salario"
   ]
  },
  {
   "cell_type": "markdown",
   "metadata": {},
   "source": [
    "## ZIP"
   ]
  },
  {
   "cell_type": "code",
   "execution_count": 38,
   "metadata": {},
   "outputs": [
    {
     "data": {
      "text/plain": [
       "{'cachorro': 'mamifero',\n",
       " 'jacare': 'repitil',\n",
       " 'pato': 'ave',\n",
       " 'baleia': 'mamifero'}"
      ]
     },
     "execution_count": 38,
     "metadata": {},
     "output_type": "execute_result"
    }
   ],
   "source": [
    "classi = [\"mamifero\",\"repitil\",\"ave\",\"mamifero\"]\n",
    "animal = ['cachorro',\"jacare\",'pato','baleia']\n",
    "dic_animal = {}\n",
    "\n",
    "for animal,classi in zip(animal,classi):\n",
    "    dic_animal[animal] = classi\n",
    "dic_animal"
   ]
  },
  {
   "cell_type": "markdown",
   "metadata": {},
   "source": [
    "# Hands On"
   ]
  },
  {
   "cell_type": "code",
   "execution_count": 43,
   "metadata": {},
   "outputs": [
    {
     "data": {
      "text/plain": [
       "9.625"
      ]
     },
     "execution_count": 43,
     "metadata": {},
     "output_type": "execute_result"
    }
   ],
   "source": [
    "# Media\n",
    "notas = [10,9.5,9,10]\n",
    "media = 0\n",
    "\n",
    "for nota in notas:\n",
    "    media += nota\n",
    "media /= len(notas)\n",
    "\n",
    "media"
   ]
  },
  {
   "cell_type": "code",
   "execution_count": 46,
   "metadata": {},
   "outputs": [
    {
     "name": "stdout",
     "output_type": "stream",
     "text": [
      "O(a) Joao e' maior de idade, ele tem 43 anos\n",
      "O(a) Maria e' maior de idade, ele tem 48 anos\n",
      "O(a) Juvenal e' maior de idade, ele tem 47 anos\n"
     ]
    }
   ],
   "source": [
    "idade_pessoas = {\n",
    "    'Joao':43,\n",
    "    'Guilhermina':11,\n",
    "    'Maria':48,\n",
    "    'Kleber':16,\n",
    "    'Juvenal':47\n",
    "}\n",
    "\n",
    "for chave,valor in idade_pessoas.items():\n",
    "    if valor >= 18:\n",
    "        print(\"O(a) {} e' maior de idade, ele tem {} anos\".format(chave,valor))"
   ]
  }
 ],
 "metadata": {
  "kernelspec": {
   "display_name": "Python 3",
   "language": "python",
   "name": "python3"
  },
  "language_info": {
   "codemirror_mode": {
    "name": "ipython",
    "version": 3
   },
   "file_extension": ".py",
   "mimetype": "text/x-python",
   "name": "python",
   "nbconvert_exporter": "python",
   "pygments_lexer": "ipython3",
   "version": "3.7.6"
  }
 },
 "nbformat": 4,
 "nbformat_minor": 4
}
