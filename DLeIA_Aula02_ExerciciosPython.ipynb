{
 "cells": [
  {
   "cell_type": "markdown",
   "metadata": {},
   "source": [
    "# Aula 02 - Resoluções de Python\n",
    "\n",
    "\n",
    "\n",
    "## Exercício 1: Calcular equação de 2º grau"
   ]
  },
  {
   "cell_type": "code",
   "execution_count": 13,
   "metadata": {},
   "outputs": [],
   "source": [
    "def calcula_equacao2grau(a, b, c): \n",
    "    \n",
    "    import math \n",
    "    \n",
    "    if a == 0:                                        \n",
    "        return \"Não é equação do 2º grau\"\n",
    "    else: \n",
    "        delta = b**2 - 4*a*c\n",
    "        if delta > 0: \n",
    "            x1 = (-b + math.sqrt(delta)) / 2*a\n",
    "            x2 = (-b - math.sqrt(delta)) / 2*a\n",
    "            \n",
    "            return (x1, x2)\n",
    "        else:\n",
    "            return \"Delta < 0\""
   ]
  },
  {
   "cell_type": "code",
   "execution_count": 14,
   "metadata": {},
   "outputs": [
    {
     "data": {
      "text/plain": [
       "(-1.0, -4.0)"
      ]
     },
     "execution_count": 14,
     "metadata": {},
     "output_type": "execute_result"
    }
   ],
   "source": [
    "calcula_equacao2grau(1, 5, 4)  # -1, -4"
   ]
  },
  {
   "cell_type": "markdown",
   "metadata": {},
   "source": [
    "## Exercício 2: Calcular juros compostos\n",
    "\n",
    "M = C(1+j)^t\n",
    "\n",
    "- M: montante final\n",
    "- C: capital inicial\n",
    "- j: taxa de juros\n",
    "- t: tempo (período)"
   ]
  },
  {
   "cell_type": "code",
   "execution_count": 15,
   "metadata": {},
   "outputs": [],
   "source": [
    "def calcula_rentabilidade(C, j, t=1):\n",
    "    return C*(1+j)**t"
   ]
  },
  {
   "cell_type": "code",
   "execution_count": 16,
   "metadata": {},
   "outputs": [
    {
     "data": {
      "text/plain": [
       "114.99999999999999"
      ]
     },
     "execution_count": 16,
     "metadata": {},
     "output_type": "execute_result"
    }
   ],
   "source": [
    "calcula_rentabilidade(100, 0.15)  #201.14"
   ]
  },
  {
   "cell_type": "markdown",
   "metadata": {},
   "source": [
    "## Exercício 3: Aplicações Financeiras "
   ]
  },
  {
   "cell_type": "code",
   "execution_count": 17,
   "metadata": {},
   "outputs": [],
   "source": [
    "taxas = {\n",
    "    \"CDB\": 0.01,\n",
    "    \"ações\": 1.0,\n",
    "    \"LCI\": 0.02,\n",
    "    \"FII\": 0.09,\n",
    "    \"LCA\": 0.03\n",
    "}\n",
    "\n",
    "investidor1 = {\n",
    "    \"nome\": \"João\",\n",
    "    \"capital\": 10000,\n",
    "    \"investimentos\": {\n",
    "        \"CDB\": 0.35,\n",
    "        \"ações\": 0.12,\n",
    "        \"LCI\": 0.20,\n",
    "        \"LCA\": 0.33\n",
    "    }\n",
    "}\n",
    "\n",
    "investidor2 = {\n",
    "    \"nome\": \"Maria\",\n",
    "    \"capital\": 8000,\n",
    "    \"investimentos\": {\n",
    "        \"CDB\": 0.10,\n",
    "        \"ações\": 0.70,\n",
    "        \"FII\": 0.20\n",
    "    }\n",
    "}\n",
    "\n",
    "investidores = [investidor1, investidor2]\n",
    "\n",
    "tempo = 3"
   ]
  },
  {
   "cell_type": "markdown",
   "metadata": {},
   "source": [
    "Explorando o dicionário de taxas"
   ]
  },
  {
   "cell_type": "code",
   "execution_count": 18,
   "metadata": {},
   "outputs": [
    {
     "data": {
      "text/plain": [
       "{'CDB': 0.01, 'ações': 1.0, 'LCI': 0.02, 'FII': 0.09, 'LCA': 0.03}"
      ]
     },
     "execution_count": 18,
     "metadata": {},
     "output_type": "execute_result"
    }
   ],
   "source": [
    "taxas"
   ]
  },
  {
   "cell_type": "markdown",
   "metadata": {},
   "source": [
    "Explorando o dicionário que representa um investidor. Note que ele possui outro dicionário alinhado chamado `investimentos`, representando sua carteira de investimentos em %"
   ]
  },
  {
   "cell_type": "code",
   "execution_count": 19,
   "metadata": {},
   "outputs": [
    {
     "data": {
      "text/plain": [
       "{'nome': 'João',\n",
       " 'capital': 10000,\n",
       " 'investimentos': {'CDB': 0.35, 'ações': 0.12, 'LCI': 0.2, 'LCA': 0.33}}"
      ]
     },
     "execution_count": 19,
     "metadata": {},
     "output_type": "execute_result"
    }
   ],
   "source": [
    "investidor1"
   ]
  },
  {
   "cell_type": "markdown",
   "metadata": {},
   "source": [
    "Como obter a taxa de uma ação? Por indexação do dicionário de taxas!"
   ]
  },
  {
   "cell_type": "code",
   "execution_count": 20,
   "metadata": {},
   "outputs": [
    {
     "data": {
      "text/plain": [
       "1.0"
      ]
     },
     "execution_count": 20,
     "metadata": {},
     "output_type": "execute_result"
    }
   ],
   "source": [
    "taxas[\"ações\"]"
   ]
  },
  {
   "cell_type": "markdown",
   "metadata": {},
   "source": [
    "Calculando o capital aplicado em LCI"
   ]
  },
  {
   "cell_type": "code",
   "execution_count": 21,
   "metadata": {},
   "outputs": [],
   "source": [
    "# Opção A - cálculo por partes\n",
    "capital = investidor1[\"capital\"]\n",
    "capital_LCI = investidor1[\"investimentos\"][\"LCI\"] * capital"
   ]
  },
  {
   "cell_type": "code",
   "execution_count": 22,
   "metadata": {},
   "outputs": [],
   "source": [
    "# Opção B - cálculo direto numa única conta\n",
    "capital_LCI2 = investidor1[\"investimentos\"][\"LCI\"] * investidor1[\"capital\"]"
   ]
  },
  {
   "cell_type": "code",
   "execution_count": 23,
   "metadata": {},
   "outputs": [
    {
     "data": {
      "text/plain": [
       "True"
      ]
     },
     "execution_count": 23,
     "metadata": {},
     "output_type": "execute_result"
    }
   ],
   "source": [
    "capital_LCI == capital_LCI2"
   ]
  },
  {
   "cell_type": "code",
   "execution_count": 24,
   "metadata": {},
   "outputs": [
    {
     "data": {
      "text/plain": [
       "2122.416"
      ]
     },
     "execution_count": 24,
     "metadata": {},
     "output_type": "execute_result"
    }
   ],
   "source": [
    "calcula_rentabilidade(capital_LCI, taxas[\"LCI\"], tempo)"
   ]
  },
  {
   "cell_type": "code",
   "execution_count": 28,
   "metadata": {},
   "outputs": [
    {
     "name": "stdout",
     "output_type": "stream",
     "text": [
      "dict_items([('CDB', 0.35), ('ações', 0.12), ('LCI', 0.2), ('LCA', 0.33)])\n",
      "dict_items([('CDB', 0.1), ('ações', 0.7), ('FII', 0.2)])\n"
     ]
    }
   ],
   "source": [
    "# Dicionário de montantes\n",
    "montantes = {}\n",
    "\n",
    "# Para cada investidor\n",
    "for investidor in investidores: \n",
    "    montantes[investidor[\"nome\"]] = investidor[\"capital\"]         # O montante começa com o capital inicial\n",
    "    \n",
    "    print(investidor[\"investimentos\"].items())\n",
    "    \n",
    "    # Para cada investimento deste investidor \n",
    "    for investimento, pct in investidor[\"investimentos\"].items(): # Obtem o tipo de investimento e o % investido\n",
    "        capital_aplicado = investidor[\"capital\"] * pct            # Calcule o capital aplicado naquele investimento\n",
    "        rendimento = calcula_rentabilidade(capital_aplicado,      # Obtem a rendimento daquele investimento\n",
    "                                          taxas[investimento],\n",
    "                                          tempo)\n",
    "        # Atualiza o montante com o rendimento deste investimento \n",
    "        montantes[investidor[\"nome\"]] += rendimento # montantes[investidor[\"nome\"]] = montantes[investidor[\"nome\"]] + rendimento"
   ]
  },
  {
   "cell_type": "code",
   "execution_count": 30,
   "metadata": {},
   "outputs": [
    {
     "data": {
      "text/plain": [
       "{'João': 28934.468600000004, 'Maria': 55696.2872}"
      ]
     },
     "execution_count": 30,
     "metadata": {},
     "output_type": "execute_result"
    }
   ],
   "source": [
    "# Imprime os montantes finais \n",
    "montantes"
   ]
  },
  {
   "cell_type": "code",
   "execution_count": null,
   "metadata": {},
   "outputs": [],
   "source": []
  }
 ],
 "metadata": {
  "kernelspec": {
   "display_name": "Python 3",
   "language": "python",
   "name": "python3"
  },
  "language_info": {
   "codemirror_mode": {
    "name": "ipython",
    "version": 3
   },
   "file_extension": ".py",
   "mimetype": "text/x-python",
   "name": "python",
   "nbconvert_exporter": "python",
   "pygments_lexer": "ipython3",
   "version": "3.8.5"
  }
 },
 "nbformat": 4,
 "nbformat_minor": 4
}
