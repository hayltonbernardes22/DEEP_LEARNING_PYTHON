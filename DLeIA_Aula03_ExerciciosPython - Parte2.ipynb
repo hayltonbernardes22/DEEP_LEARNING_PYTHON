{
 "cells": [
  {
   "cell_type": "markdown",
   "metadata": {
    "id": "BTvJ7SK7nfVI"
   },
   "source": [
    "# Aula 03 - Resoluções de Python\n",
    "\n",
    "\n",
    "## Exercício 4: Evolução das Aplicações Financeiras \n",
    "\n",
    "Considerando as taxas abaixo, o cálculo das rentabilidades e os investimentos de cada cliente, faça um gráfico que mostre o aumento dos montantes investidos ao longo de 10 anos. \n",
    "\n",
    "Para isso, importe a bilioteca necessária:\n",
    "\n",
    "```python\n",
    "    # Biblioteca básica para uso de gráficos em Python\n",
    "    import matplotlib.pyplot as plt\n",
    "    %matplotlib inline\n",
    "```"
   ]
  },
  {
   "cell_type": "code",
   "execution_count": 2,
   "metadata": {
    "id": "-9wnFCVnxAym"
   },
   "outputs": [],
   "source": [
    " # Biblioteca básica para uso de gráficos em Python\n",
    "import matplotlib.pyplot as plt\n",
    "%matplotlib inline"
   ]
  },
  {
   "cell_type": "code",
   "execution_count": 3,
   "metadata": {
    "id": "iIMK1x7InfVm"
   },
   "outputs": [],
   "source": [
    "def calcula_rentabilidade(C, j, t=1):\n",
    "    return C*(1+j)**t"
   ]
  },
  {
   "cell_type": "code",
   "execution_count": 4,
   "metadata": {
    "id": "k_YGJnuVnfVr"
   },
   "outputs": [],
   "source": [
    "taxas = {\n",
    "    \"CDB\": 0.01,\n",
    "    \"ações\": 1.0,\n",
    "    \"LCI\": 0.02,\n",
    "    \"FII\": 0.09,\n",
    "    \"LCA\": 0.03\n",
    "}\n",
    "\n",
    "investidor1 = {\n",
    "    \"nome\": \"João\",\n",
    "    \"capital\": 10000,\n",
    "    \"investimentos\": {\n",
    "        \"CDB\": 0.35,\n",
    "        \"ações\": 0.12,\n",
    "        \"LCI\": 0.20,\n",
    "        \"LCA\": 0.33\n",
    "    }\n",
    "}\n",
    "\n",
    "investidor2 = {\n",
    "    \"nome\": \"Maria\",\n",
    "    \"capital\": 8000,\n",
    "    \"investimentos\": {\n",
    "        \"CDB\": 0.10,\n",
    "        \"ações\": 0.70,\n",
    "        \"FII\": 0.20\n",
    "    }\n",
    "}\n",
    "\n",
    "investidor3 = {\n",
    "    \"nome\": \"Mario\",\n",
    "    \"capital\": 2500,\n",
    "    \"investimentos\": {\n",
    "        \"CDB\": 0.30,\n",
    "        \"ações\": 0.40,\n",
    "        \"FII\": 0.20,\n",
    "        \"LCA\": 0.10\n",
    "    }\n",
    "}\n",
    "\n",
    "investidores = [investidor1, investidor2, investidor3]"
   ]
  },
  {
   "cell_type": "code",
   "execution_count": 5,
   "metadata": {
    "colab": {
     "base_uri": "https://localhost:8080/"
    },
    "id": "TL_xV3c12Pyq",
    "outputId": "f677170b-3e55-4d2b-8fbb-6f190cdf90a3"
   },
   "outputs": [
    {
     "data": {
      "text/plain": [
       "0.12"
      ]
     },
     "execution_count": 5,
     "metadata": {},
     "output_type": "execute_result"
    }
   ],
   "source": [
    "# Apenas uma observação de como pegar a porcentagem de investimento em ações do 1º investidor\n",
    "investidores[0][\"investimentos\"][\"ações\"]"
   ]
  },
  {
   "cell_type": "code",
   "execution_count": 6,
   "metadata": {},
   "outputs": [
    {
     "data": {
      "text/plain": [
       "'Maria'"
      ]
     },
     "execution_count": 6,
     "metadata": {},
     "output_type": "execute_result"
    }
   ],
   "source": [
    "investidores[1][\"nome\"]"
   ]
  },
  {
   "cell_type": "code",
   "execution_count": 6,
   "metadata": {
    "id": "YjAo3erJnfVu"
   },
   "outputs": [],
   "source": [
    "def calcula_rendimentos(investidores, taxas, tempo):\n",
    "  # Dicionário de montantes\n",
    "  montantes = {}\n",
    "\n",
    "  # Para cada investidor\n",
    "  for investidor in investidores: \n",
    "      montantes[investidor[\"nome\"]] = investidor[\"capital\"]         # O montante começa com o capital inicial\n",
    "           \n",
    "      # Para cada investimento deste investidor \n",
    "      for investimento, pct in investidor[\"investimentos\"].items(): # Obtem o tipo de investimento e o % investido\n",
    "          capital_aplicado = investidor[\"capital\"] * pct            # Calcule o capital aplicado naquele investimento\n",
    "          rendimento = calcula_rentabilidade(capital_aplicado,      # Obtem a rendimento daquele investimento\n",
    "                                            taxas[investimento],\n",
    "                                            tempo)\n",
    "          # Atualiza o montante com o rendimento deste investimento \n",
    "          montantes[investidor[\"nome\"]] += rendimento # montantes[investidor[\"nome\"]] = montantes[investidor[\"nome\"]] + rendimento\n",
    "\n",
    "  return montantes"
   ]
  },
  {
   "cell_type": "code",
   "execution_count": 7,
   "metadata": {
    "colab": {
     "base_uri": "https://localhost:8080/"
    },
    "id": "g1uo_3KPpKcF",
    "outputId": "358c81cb-ddb7-403a-9269-2e57536e834b"
   },
   "outputs": [
    {
     "name": "stdout",
     "output_type": "stream",
     "text": [
      "Para quantos anos você quer ver o gráfico? 5\n"
     ]
    },
    {
     "data": {
      "text/plain": [
       "5"
      ]
     },
     "execution_count": 7,
     "metadata": {},
     "output_type": "execute_result"
    }
   ],
   "source": [
    "# Obtendo do usuário quantos anos de investimento quer simular\n",
    "tempo = int(input(\"Para quantos anos você quer ver o gráfico? \"))\n",
    "tempo"
   ]
  },
  {
   "cell_type": "code",
   "execution_count": 8,
   "metadata": {
    "colab": {
     "base_uri": "https://localhost:8080/"
    },
    "id": "4rd0N6IExr0_",
    "outputId": "1877bfed-6825-470b-f8d8-ecba29cea512"
   },
   "outputs": [
    {
     "name": "stdout",
     "output_type": "stream",
     "text": [
      "Tempo 0: {'João': 20000.0, 'Maria': 16000.0, 'Mario': 5000.0}\n",
      "Tempo 1: {'João': 21374.0, 'Maria': 21752.0, 'Mario': 6060.0}\n",
      "Tempo 2: {'João': 23952.12, 'Maria': 33117.04, 'Mario': 8124.35}\n",
      "Tempo 3: {'João': 28934.468600000004, 'Maria': 55696.2872, 'Mario': 12193.421999999999}\n",
      "Tempo 4: {'João': 38721.157428, 'Maria': 100691.01378400001, 'Mario': 20267.621015}\n",
      "Tempo 5: {'João': 58112.30122694, 'Maria': 190502.60636792, 'Mario': 36347.3880336}\n"
     ]
    }
   ],
   "source": [
    "# Cálculo dos rendimentos por ano \n",
    "rendimentos = []                                             # Lista para salvar os rendimentos\n",
    "for t in range(tempo+1):                                     # Vamos iterar para cada ano de 0 até \"tempo\"\n",
    "    rendimento = calcula_rendimentos(investidores, taxas, t) # Para cada ano, calcula o rendimento dos investidores\n",
    "    print(\"Tempo {0}: {1}\".format(t, rendimento))            # Imprime o resultado\n",
    "    rendimentos.append(rendimento)                           # Adiciona os investimentos daquele ano na lista de rendimentos"
   ]
  },
  {
   "cell_type": "code",
   "execution_count": 9,
   "metadata": {
    "colab": {
     "base_uri": "https://localhost:8080/"
    },
    "id": "bDGx10FFzFZo",
    "outputId": "faf01e5c-1659-4b0b-9650-4f8d1b6bf911"
   },
   "outputs": [
    {
     "data": {
      "text/plain": [
       "[{'João': 20000.0, 'Maria': 16000.0, 'Mario': 5000.0},\n",
       " {'João': 21374.0, 'Maria': 21752.0, 'Mario': 6060.0},\n",
       " {'João': 23952.12, 'Maria': 33117.04, 'Mario': 8124.35},\n",
       " {'João': 28934.468600000004,\n",
       "  'Maria': 55696.2872,\n",
       "  'Mario': 12193.421999999999},\n",
       " {'João': 38721.157428, 'Maria': 100691.01378400001, 'Mario': 20267.621015},\n",
       " {'João': 58112.30122694, 'Maria': 190502.60636792, 'Mario': 36347.3880336}]"
      ]
     },
     "execution_count": 9,
     "metadata": {},
     "output_type": "execute_result"
    }
   ],
   "source": [
    "# Mostrando o resultado da lista \"rendimentos\". Note que ela é uma lista de dicionários \n",
    "rendimentos"
   ]
  },
  {
   "cell_type": "code",
   "execution_count": 10,
   "metadata": {
    "colab": {
     "base_uri": "https://localhost:8080/"
    },
    "id": "t3uNvjOKzP8f",
    "outputId": "5d1b853c-a092-422e-bb39-7ad9842e5334"
   },
   "outputs": [
    {
     "data": {
      "text/plain": [
       "[20000.0, 21374.0, 23952.12, 28934.468600000004, 38721.157428, 58112.30122694]"
      ]
     },
     "execution_count": 10,
     "metadata": {},
     "output_type": "execute_result"
    }
   ],
   "source": [
    "# ATENÇÃO! CONCEITO NOVO! =D\n",
    "\n",
    "# Criando uma list comprehension de python para obter os montantes de rendimento do João\n",
    "# A leitura é: \n",
    "#    - python, crie uma lista (observe os [ ])\n",
    "#    - itere para cada rendimento da lista \"rendimentos\"\n",
    "#    - pegue o rendimento do investidor \"João\", ou seja, acesse o valor armazenado no dicionário com a chave \"João\"\n",
    "joao = [rendimento[\"João\"] for rendimento in rendimentos]\n",
    "joao"
   ]
  },
  {
   "cell_type": "code",
   "execution_count": 11,
   "metadata": {
    "colab": {
     "base_uri": "https://localhost:8080/",
     "height": 295
    },
    "id": "KqhO2mCNzfuQ",
    "outputId": "9a5a7751-4c5e-40eb-c546-7ceb56d1e2a3"
   },
   "outputs": [
    {
     "data": {
      "image/png": "[encoded data removed]",
      "text/plain": [
       "<Figure size 432x288 with 1 Axes>"
      ]
     },
     "metadata": {
      "needs_background": "light"
     },
     "output_type": "display_data"
    }
   ],
   "source": [
    "# Agora que sabemos fazer list comprehension, vamos criar o gráfico \n",
    "\n",
    "# Para cada investidor da lista de investidores \n",
    "for investidor in investidores:\n",
    "    lista_montantes = [rendimento[investidor[\"nome\"]] for rendimento in rendimentos] # Pegue a lista de montantes por ano\n",
    "    plt.plot(range(tempo+1), lista_montantes, label=investidor[\"nome\"])              # Plote a curva, usando o nome como label\n",
    "\n",
    "# Ajustes no gráfico (título, eixos X e Y, mostrar legenda)\n",
    "plt.title(\"Rendimento do capital ao longo do tempo\")\n",
    "plt.xlabel(\"Tempo (anos)\")\n",
    "plt.ylabel(\"Montante (R$)\")\n",
    "plt.legend()\n",
    "plt.show()"
   ]
  },
  {
   "cell_type": "markdown",
   "metadata": {},
   "source": [
    "## Exercício 5: Gráficos dos montantes por investimento\n",
    "\n",
    "Analise o código acima e altere a lógica para gerar um gráfico para cada investidor (João, Maria, Mário), sendo que cada gráfico deve mostrar a evolução temporal dos investimentos da carteira daquele investidor. **Por exemplo**: fazer um gráfico para a Maria, no qual mostre 3 curvas, uma para cada investimento da carteira dela: CDB, ações e FII. \n",
    "\n",
    "_DICA_ : explore o código acima! Faça impressões das partes separadas, investigue como fazer os acessos aos tipos de dados utilizados: Listas e Dicionários. Para obter exemplos sobre o uso de tais estruturas, consulte [este link](https://www.devmedia.com.br/colecoes-no-python-listas-tuplas-e-dicionarios/40678).\n",
    "\n",
    "Bom trabalho!"
   ]
  },
  {
   "cell_type": "code",
   "execution_count": null,
   "metadata": {},
   "outputs": [],
   "source": []
  }
 ],
 "metadata": {
  "colab": {
   "name": "DLeIA_Aula03_ExerciciosPython - Parte2.ipynb",
   "provenance": []
  },
  "kernelspec": {
   "display_name": "Python 3",
   "language": "python",
   "name": "python3"
  },
  "language_info": {
   "codemirror_mode": {
    "name": "ipython",
    "version": 3
   },
   "file_extension": ".py",
   "mimetype": "text/x-python",
   "name": "python",
   "nbconvert_exporter": "python",
   "pygments_lexer": "ipython3",
   "version": "3.8.5"
  }
 },
 "nbformat": 4,
 "nbformat_minor": 1
}
