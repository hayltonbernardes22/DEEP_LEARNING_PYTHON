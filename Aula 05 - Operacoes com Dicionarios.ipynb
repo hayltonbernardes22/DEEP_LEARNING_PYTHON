{
 "cells": [
  {
   "cell_type": "markdown",
   "metadata": {},
   "source": [
    "# Aula 05"
   ]
  },
  {
   "cell_type": "markdown",
   "metadata": {},
   "source": [
    "## Hands on"
   ]
  },
  {
   "cell_type": "code",
   "execution_count": 6,
   "metadata": {},
   "outputs": [],
   "source": [
    "def juros_compostos(c,j,t=1):\n",
    "    return c*(1+j)**t"
   ]
  },
  {
   "cell_type": "code",
   "execution_count": 2,
   "metadata": {},
   "outputs": [],
   "source": [
    "# Carteira de investimento\n",
    "investidor1 = {\n",
    "    \"nome\":\"Joao\",\n",
    "    \"capital\":10000,\n",
    "    'investimentos':{\n",
    "        \"CDB\":0.35,\n",
    "        \"acoes\":0.12,\n",
    "        \"LCI\":0.33,\n",
    "        'LCA':0.2\n",
    "    }\n",
    "}\n",
    "\n",
    "investidor2 = {\n",
    "    \"nome\":\"Maria\",\n",
    "    \"capital\":8000,\n",
    "    'investimentos':{\n",
    "        \"CDB\":0.1,\n",
    "        \"acoes\":0.70,\n",
    "        \"FII\":0.2,\n",
    "    }\n",
    "}\n",
    "\n",
    "investidores = [investidor1,investidor2]"
   ]
  },
  {
   "cell_type": "code",
   "execution_count": 3,
   "metadata": {},
   "outputs": [],
   "source": [
    "taxas = {\n",
    "    \"CDB\":0.1,\n",
    "    \"acoes\":1.0,\n",
    "    \"LCI\":0.02,\n",
    "    \"LCA\":0.03,\n",
    "    'FII':0.09\n",
    "}\n",
    "\n",
    "tempo = 3 #anos"
   ]
  },
  {
   "cell_type": "code",
   "execution_count": 4,
   "metadata": {},
   "outputs": [
    {
     "name": "stdout",
     "output_type": "stream",
     "text": [
      "Montante final apos 3 ano(s):\n",
      "\n",
      "O Investidor(a) Joao tera um montante de R$19945.940400000003 em 3 ano(s).\n",
      "O Investidor(a) Maria tera um montante de R$47936.8464 em 3 ano(s).\n",
      "Montante final apos 3 ano(s):\n",
      "\n",
      "O Investidor(a) Joao tera um montante de R$19945.940400000003 em 3 ano(s).\n",
      "O Investidor(a) Maria tera um montante de R$47936.8464 em 3 ano(s).\n"
     ]
    }
   ],
   "source": [
    "print(\"Montante final apos {} ano(s):\\n\".format(tempo))\n",
    "\n",
    "for investidor in investidores:\n",
    "    montante = 0\n",
    "    for investimento,percentual in investidor['investimentos'].items():\n",
    "        #montante = montante + juros_compostos(investidor[\"capital\"]*percentual,taxas[investimento],tempo)\n",
    "        montante += juros_compostos(investidor[\"capital\"]*percentual,taxas[investimento],tempo)\n",
    "    print(\"O Investidor(a) {} tera um montante de R${} em {} ano(s).\".format(investidor[\"nome\"],montante,tempo))"
   ]
  },
  {
   "cell_type": "markdown",
   "metadata": {},
   "source": [
    "OU"
   ]
  },
  {
   "cell_type": "markdown",
   "metadata": {},
   "source": [
    "### TESTES"
   ]
  },
  {
   "cell_type": "code",
   "execution_count": 5,
   "metadata": {},
   "outputs": [
    {
     "ename": "SyntaxError",
     "evalue": "invalid syntax (<ipython-input-5-e140fdea75ee>, line 1)",
     "output_type": "error",
     "traceback": [
      "\u001b[0;36m  File \u001b[0;32m\"<ipython-input-5-e140fdea75ee>\"\u001b[0;36m, line \u001b[0;32m1\u001b[0m\n\u001b[0;31m    montante = (investidor1[\"nome\"]: 0,investidor2['nome']:0)\u001b[0m\n\u001b[0m                                   ^\u001b[0m\n\u001b[0;31mSyntaxError\u001b[0m\u001b[0;31m:\u001b[0m invalid syntax\n"
     ]
    },
    {
     "ename": "SyntaxError",
     "evalue": "invalid syntax (<ipython-input-5-e140fdea75ee>, line 1)",
     "output_type": "error",
     "traceback": [
      "\u001b[0;36m  File \u001b[0;32m\"<ipython-input-5-e140fdea75ee>\"\u001b[0;36m, line \u001b[0;32m1\u001b[0m\n\u001b[0;31m    montante = (investidor1[\"nome\"]: 0,investidor2['nome']:0)\u001b[0m\n\u001b[0m                                   ^\u001b[0m\n\u001b[0;31mSyntaxError\u001b[0m\u001b[0;31m:\u001b[0m invalid syntax\n"
     ]
    }
   ],
   "source": [
    "montante = (investidor1[\"nome\"]: 0,investidor2['nome']:0)\n",
    "\n",
    "print(\"Montante final apos {} ano(s):\\n\".format(tempo))\n",
    "for investidor in investidores:\n",
    "    for investimento,percentual in investidor['investimentos'].items():\n",
    "        montante[investidor1['nome']] += \\\n",
    "                            juros_compostos(investidor[\"capital\"]*percentual,taxas[investimento],tempo)\n",
    "    print(\"O Investidor(a) {} tera um montante de R${} em {} ano(s).\".format(investidor[\"nome\"],montante,tempo))"
   ]
  },
  {
   "cell_type": "code",
   "execution_count": null,
   "metadata": {},
   "outputs": [],
   "source": []
  },
  {
   "cell_type": "code",
   "execution_count": 7,
   "metadata": {},
   "outputs": [
    {
     "data": {
      "text/plain": [
       "{'CDB': 0.35, 'acoes': 0.12, 'LCI': 0.33, 'LCA': 0.2}"
      ]
     },
     "execution_count": 7,
     "metadata": {},
     "output_type": "execute_result"
    },
    {
     "data": {
      "text/plain": [
       "{'CDB': 0.35, 'acoes': 0.12, 'LCI': 0.33, 'LCA': 0.2}"
      ]
     },
     "execution_count": 7,
     "metadata": {},
     "output_type": "execute_result"
    }
   ],
   "source": [
    "investidores[0]['investimentos']"
   ]
  },
  {
   "cell_type": "code",
   "execution_count": 8,
   "metadata": {},
   "outputs": [
    {
     "data": {
      "text/plain": [
       "0.35"
      ]
     },
     "execution_count": 8,
     "metadata": {},
     "output_type": "execute_result"
    },
    {
     "data": {
      "text/plain": [
       "0.35"
      ]
     },
     "execution_count": 8,
     "metadata": {},
     "output_type": "execute_result"
    }
   ],
   "source": [
    "investidores[0]['investimentos']['CDB']"
   ]
  },
  {
   "cell_type": "code",
   "execution_count": 9,
   "metadata": {},
   "outputs": [
    {
     "ename": "SyntaxError",
     "evalue": "invalid syntax (<ipython-input-9-a14c69bd074e>, line 3)",
     "output_type": "error",
     "traceback": [
      "\u001b[0;36m  File \u001b[0;32m\"<ipython-input-9-a14c69bd074e>\"\u001b[0;36m, line \u001b[0;32m3\u001b[0m\n\u001b[0;31m    if\u001b[0m\n\u001b[0m       ^\u001b[0m\n\u001b[0;31mSyntaxError\u001b[0m\u001b[0;31m:\u001b[0m invalid syntax\n"
     ]
    },
    {
     "ename": "SyntaxError",
     "evalue": "invalid syntax (<ipython-input-9-a14c69bd074e>, line 3)",
     "output_type": "error",
     "traceback": [
      "\u001b[0;36m  File \u001b[0;32m\"<ipython-input-9-a14c69bd074e>\"\u001b[0;36m, line \u001b[0;32m3\u001b[0m\n\u001b[0;31m    if\u001b[0m\n\u001b[0m       ^\u001b[0m\n\u001b[0;31mSyntaxError\u001b[0m\u001b[0;31m:\u001b[0m invalid syntax\n"
     ]
    }
   ],
   "source": [
    "for i in investidores[0]['investimentos'].keys():\n",
    "    for j in taxas.keys():\n",
    "        if "
   ]
  },
  {
   "cell_type": "code",
   "execution_count": null,
   "metadata": {},
   "outputs": [],
   "source": []
  },
  {
   "cell_type": "code",
   "execution_count": null,
   "metadata": {},
   "outputs": [],
   "source": []
  },
  {
   "cell_type": "code",
   "execution_count": 10,
   "metadata": {},
   "outputs": [
    {
     "data": {
      "text/plain": [
       "dict_values(['Joao', 10000, {'CDB': 0.35, 'acoes': 0.12, 'LCI': 0.33, 'LCA': 0.2}])"
      ]
     },
     "execution_count": 10,
     "metadata": {},
     "output_type": "execute_result"
    },
    {
     "data": {
      "text/plain": [
       "dict_values(['Joao', 10000, {'CDB': 0.35, 'acoes': 0.12, 'LCI': 0.33, 'LCA': 0.2}])"
      ]
     },
     "execution_count": 10,
     "metadata": {},
     "output_type": "execute_result"
    }
   ],
   "source": [
    "investidor1.values()"
   ]
  },
  {
   "cell_type": "code",
   "execution_count": 11,
   "metadata": {},
   "outputs": [
    {
     "ename": "ValueError",
     "evalue": "too many values to unpack (expected 2)",
     "output_type": "error",
     "traceback": [
      "\u001b[0;31m---------------------------------------------------------------------------\u001b[0m",
      "\u001b[0;31mValueError\u001b[0m                                Traceback (most recent call last)",
      "\u001b[0;32m<ipython-input-11-72640a40bdec>\u001b[0m in \u001b[0;36m<module>\u001b[0;34m\u001b[0m\n\u001b[1;32m      1\u001b[0m \u001b[0;32mfor\u001b[0m \u001b[0mchave\u001b[0m\u001b[0;34m,\u001b[0m\u001b[0mvalor\u001b[0m \u001b[0;32min\u001b[0m \u001b[0minvestidor1\u001b[0m\u001b[0;34m.\u001b[0m\u001b[0mitems\u001b[0m\u001b[0;34m(\u001b[0m\u001b[0;34m)\u001b[0m\u001b[0;34m:\u001b[0m\u001b[0;34m\u001b[0m\u001b[0;34m\u001b[0m\u001b[0m\n\u001b[1;32m      2\u001b[0m     \u001b[0;32mif\u001b[0m \u001b[0mtype\u001b[0m\u001b[0;34m(\u001b[0m\u001b[0mvalor\u001b[0m\u001b[0;34m)\u001b[0m \u001b[0;34m==\u001b[0m \u001b[0mdict\u001b[0m\u001b[0;34m:\u001b[0m\u001b[0;34m\u001b[0m\u001b[0;34m\u001b[0m\u001b[0m\n\u001b[0;32m----> 3\u001b[0;31m         \u001b[0;32mfor\u001b[0m \u001b[0mchave2\u001b[0m\u001b[0;34m,\u001b[0m\u001b[0mvalor2\u001b[0m \u001b[0;32min\u001b[0m \u001b[0mvalor\u001b[0m\u001b[0;34m:\u001b[0m\u001b[0;34m\u001b[0m\u001b[0;34m\u001b[0m\u001b[0m\n\u001b[0m\u001b[1;32m      4\u001b[0m             \u001b[0mprint\u001b[0m\u001b[0;34m(\u001b[0m\u001b[0mvalor2\u001b[0m\u001b[0;34m)\u001b[0m\u001b[0;34m\u001b[0m\u001b[0;34m\u001b[0m\u001b[0m\n",
      "\u001b[0;31mValueError\u001b[0m: too many values to unpack (expected 2)"
     ]
    },
    {
     "ename": "ValueError",
     "evalue": "too many values to unpack (expected 2)",
     "output_type": "error",
     "traceback": [
      "\u001b[0;31m---------------------------------------------------------------------------\u001b[0m",
      "\u001b[0;31mValueError\u001b[0m                                Traceback (most recent call last)",
      "\u001b[0;32m<ipython-input-11-72640a40bdec>\u001b[0m in \u001b[0;36m<module>\u001b[0;34m\u001b[0m\n\u001b[1;32m      1\u001b[0m \u001b[0;32mfor\u001b[0m \u001b[0mchave\u001b[0m\u001b[0;34m,\u001b[0m\u001b[0mvalor\u001b[0m \u001b[0;32min\u001b[0m \u001b[0minvestidor1\u001b[0m\u001b[0;34m.\u001b[0m\u001b[0mitems\u001b[0m\u001b[0;34m(\u001b[0m\u001b[0;34m)\u001b[0m\u001b[0;34m:\u001b[0m\u001b[0;34m\u001b[0m\u001b[0;34m\u001b[0m\u001b[0m\n\u001b[1;32m      2\u001b[0m     \u001b[0;32mif\u001b[0m \u001b[0mtype\u001b[0m\u001b[0;34m(\u001b[0m\u001b[0mvalor\u001b[0m\u001b[0;34m)\u001b[0m \u001b[0;34m==\u001b[0m \u001b[0mdict\u001b[0m\u001b[0;34m:\u001b[0m\u001b[0;34m\u001b[0m\u001b[0;34m\u001b[0m\u001b[0m\n\u001b[0;32m----> 3\u001b[0;31m         \u001b[0;32mfor\u001b[0m \u001b[0mchave2\u001b[0m\u001b[0;34m,\u001b[0m\u001b[0mvalor2\u001b[0m \u001b[0;32min\u001b[0m \u001b[0mvalor\u001b[0m\u001b[0;34m:\u001b[0m\u001b[0;34m\u001b[0m\u001b[0;34m\u001b[0m\u001b[0m\n\u001b[0m\u001b[1;32m      4\u001b[0m             \u001b[0mprint\u001b[0m\u001b[0;34m(\u001b[0m\u001b[0mvalor2\u001b[0m\u001b[0;34m)\u001b[0m\u001b[0;34m\u001b[0m\u001b[0;34m\u001b[0m\u001b[0m\n",
      "\u001b[0;31mValueError\u001b[0m: too many values to unpack (expected 2)"
     ]
    }
   ],
   "source": [
    "for chave,valor in investidor1.items():\n",
    "    if type(valor) == dict:\n",
    "        for chave2,valor2 in valor:\n",
    "            print(valor2)"
   ]
  },
  {
   "cell_type": "code",
   "execution_count": 12,
   "metadata": {},
   "outputs": [],
   "source": [
    "# Juros compostos\n",
    "def juros_compostos(c,j,t=1):\n",
    "    montante = c*(1+j)**t\n",
    "    print(\"\\nO montante ao termino de {} anos sera de {} reais\".format(t,montante))"
   ]
  }
 ],
 "metadata": {
  "kernelspec": {
   "display_name": "Python 3",
   "language": "python",
   "name": "python3"
  },
  "language_info": {
   "codemirror_mode": {
    "name": "ipython",
    "version": 3
   },
   "file_extension": ".py",
   "mimetype": "text/x-python",
   "name": "python",
   "nbconvert_exporter": "python",
   "pygments_lexer": "ipython3",
   "version": "3.7.6"
  }
 },
 "nbformat": 4,
 "nbformat_minor": 4
}
