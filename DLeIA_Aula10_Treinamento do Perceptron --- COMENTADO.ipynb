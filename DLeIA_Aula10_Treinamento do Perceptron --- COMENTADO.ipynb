{
 "cells": [
  {
   "cell_type": "markdown",
   "metadata": {},
   "source": [
    "# Aula 10 - Treinamento do Perceptron\n",
    "\n",
    "Lembrando do que vimos na matéria de _Machine Learning_ , quando desenvolvemos modelos preditivos temos 2 fases: \n",
    "- **treinamento** : construção do modelo\n",
    "- **teste** : uso do modelo construído\n",
    "\n",
    "Na última aula, nós usamos uma rede \"pronta\" para predizer se uma faculdade era uma boa escolha ou não (modelo de classificação) ou prever um score de cada faculdade para criar um ranking (modelo de regressão).\n",
    "\n",
    "Note que os pesos já foram fornecidos, ou seja, o modelo já estava \"treinado\": \n",
    "\n",
    "```python\n",
    "pesos = [ 0.10, 0.05, 0.05, 0.2, 0.25, 0.3, 0.05 ]\n",
    "```\n",
    "\n",
    "Mas e se os pesos não fossem dados? Como poderíamos encontrar os melhores pesos para o problema? Daí surge o **treinamento dos modelos**, ou seja, encontrar os pesos adequados para modelar o problema. "
   ]
  },
  {
   "cell_type": "markdown",
   "metadata": {},
   "source": [
    "## Treinamento do Perceptron \n",
    "\n",
    "Aprendendo os melhores pesos para modelar o problema. \n",
    "\n",
    "\n",
    "1. Conhecer os dados de entrada e saída (labels)\n",
    "2. Inicializar os pesos (ex: valores aleatórios) \n",
    "3. Para todo dado de treinamento: \n",
    "    - Calcular as predições com os pesos correntes e as entradas e a função de ativação \n",
    "    - Calcular os erros das predições em relação às entradas \n",
    "    - Para cada peso: \n",
    "        - Atualizá-lo mediante o erro calculado (com a fórmula: pesos(n+1) = pesos(n) + (entrada * erro * taxaAprendizagem))\n",
    "4. Repetir passos a partir do #3 enquanto “erro != zero”\n"
   ]
  },
  {
   "cell_type": "code",
   "execution_count": 1,
   "metadata": {},
   "outputs": [],
   "source": [
    "import numpy as np\n",
    "entradas = np.array([[0, 0],\n",
    "                     [0, 1],\n",
    "                     [1, 0],\n",
    "                     [1, 1]])\n",
    "saidas = np.array( [0, 0, 0, 1] )\n",
    "pesos = np.array( [0.0, 0.0] )  # Experimente alterar os pesos iniciais \n",
    "taxaAprendizagem = 0.1          # Varie este valor e veja o reflexo na saída"
   ]
  },
  {
   "cell_type": "code",
   "execution_count": 2,
   "metadata": {},
   "outputs": [],
   "source": [
    "def funcao_ativacao(soma):\n",
    "    if soma>= 1:\n",
    "        return 1\n",
    "    return 0\n",
    "\n",
    "def calcula_saida(registro):\n",
    "    s = registro.dot(pesos)\n",
    "    return funcao_ativacao(s)\n",
    "\n",
    "def treinar():\n",
    "    erroTotal = 1\n",
    "\n",
    "    while erroTotal != 0:\n",
    "        erroTotal = 0\n",
    "        for i in range(len(saidas)):\n",
    "            saidaCalculada = calcula_saida( np.asarray(entradas[i]) )\n",
    "            erro = saidas[i] - saidaCalculada\n",
    "            erroTotal += erro\n",
    "            print(f\"\\tDado: {i}\") \n",
    "            for j in range(len(pesos)):\n",
    "                pesos[j] = pesos[j] + (taxaAprendizagem * entradas[i][j] * erro)\n",
    "                print(f\"\\t\\tPeso atualizado {j}: {pesos[j]}\")\n",
    "        print(f\"---> Total de erros: {erroTotal}\\n\")"
   ]
  },
  {
   "cell_type": "code",
   "execution_count": 3,
   "metadata": {},
   "outputs": [
    {
     "name": "stdout",
     "output_type": "stream",
     "text": [
      "\tDado: 0\n",
      "\t\tPeso atualizado 0: 0.0\n",
      "\t\tPeso atualizado 1: 0.0\n",
      "\tDado: 1\n",
      "\t\tPeso atualizado 0: 0.0\n",
      "\t\tPeso atualizado 1: 0.0\n",
      "\tDado: 2\n",
      "\t\tPeso atualizado 0: 0.0\n",
      "\t\tPeso atualizado 1: 0.0\n",
      "\tDado: 3\n",
      "\t\tPeso atualizado 0: 0.1\n",
      "\t\tPeso atualizado 1: 0.1\n",
      "---> Total de erros: 1\n",
      "\n",
      "\tDado: 0\n",
      "\t\tPeso atualizado 0: 0.1\n",
      "\t\tPeso atualizado 1: 0.1\n",
      "\tDado: 1\n",
      "\t\tPeso atualizado 0: 0.1\n",
      "\t\tPeso atualizado 1: 0.1\n",
      "\tDado: 2\n",
      "\t\tPeso atualizado 0: 0.1\n",
      "\t\tPeso atualizado 1: 0.1\n",
      "\tDado: 3\n",
      "\t\tPeso atualizado 0: 0.2\n",
      "\t\tPeso atualizado 1: 0.2\n",
      "---> Total de erros: 1\n",
      "\n",
      "\tDado: 0\n",
      "\t\tPeso atualizado 0: 0.2\n",
      "\t\tPeso atualizado 1: 0.2\n",
      "\tDado: 1\n",
      "\t\tPeso atualizado 0: 0.2\n",
      "\t\tPeso atualizado 1: 0.2\n",
      "\tDado: 2\n",
      "\t\tPeso atualizado 0: 0.2\n",
      "\t\tPeso atualizado 1: 0.2\n",
      "\tDado: 3\n",
      "\t\tPeso atualizado 0: 0.30000000000000004\n",
      "\t\tPeso atualizado 1: 0.30000000000000004\n",
      "---> Total de erros: 1\n",
      "\n",
      "\tDado: 0\n",
      "\t\tPeso atualizado 0: 0.30000000000000004\n",
      "\t\tPeso atualizado 1: 0.30000000000000004\n",
      "\tDado: 1\n",
      "\t\tPeso atualizado 0: 0.30000000000000004\n",
      "\t\tPeso atualizado 1: 0.30000000000000004\n",
      "\tDado: 2\n",
      "\t\tPeso atualizado 0: 0.30000000000000004\n",
      "\t\tPeso atualizado 1: 0.30000000000000004\n",
      "\tDado: 3\n",
      "\t\tPeso atualizado 0: 0.4\n",
      "\t\tPeso atualizado 1: 0.4\n",
      "---> Total de erros: 1\n",
      "\n",
      "\tDado: 0\n",
      "\t\tPeso atualizado 0: 0.4\n",
      "\t\tPeso atualizado 1: 0.4\n",
      "\tDado: 1\n",
      "\t\tPeso atualizado 0: 0.4\n",
      "\t\tPeso atualizado 1: 0.4\n",
      "\tDado: 2\n",
      "\t\tPeso atualizado 0: 0.4\n",
      "\t\tPeso atualizado 1: 0.4\n",
      "\tDado: 3\n",
      "\t\tPeso atualizado 0: 0.5\n",
      "\t\tPeso atualizado 1: 0.5\n",
      "---> Total de erros: 1\n",
      "\n",
      "\tDado: 0\n",
      "\t\tPeso atualizado 0: 0.5\n",
      "\t\tPeso atualizado 1: 0.5\n",
      "\tDado: 1\n",
      "\t\tPeso atualizado 0: 0.5\n",
      "\t\tPeso atualizado 1: 0.5\n",
      "\tDado: 2\n",
      "\t\tPeso atualizado 0: 0.5\n",
      "\t\tPeso atualizado 1: 0.5\n",
      "\tDado: 3\n",
      "\t\tPeso atualizado 0: 0.5\n",
      "\t\tPeso atualizado 1: 0.5\n",
      "---> Total de erros: 0\n",
      "\n"
     ]
    }
   ],
   "source": [
    "treinar()"
   ]
  },
  {
   "cell_type": "code",
   "execution_count": 4,
   "metadata": {},
   "outputs": [
    {
     "data": {
      "text/plain": [
       "array([0.5, 0.5])"
      ]
     },
     "execution_count": 4,
     "metadata": {},
     "output_type": "execute_result"
    }
   ],
   "source": [
    "pesos"
   ]
  },
  {
   "cell_type": "markdown",
   "metadata": {},
   "source": [
    "## Para casa\n",
    "\n",
    "Altere os valores dos pesos iniciais e da taxa de aprendizagem e observe o impacto no treinamento da rede. \n",
    "\n",
    "Note que eventualmente você pode chegar em uma configuração que a rede não converge para os pesos adequados (ou seja, o laço `while` continua a rodar infinitamente. Se isso ocorrer, pare a execução no botão STOP (interrupt the kernel), ou vá em Kernel > Restart. "
   ]
  },
  {
   "cell_type": "code",
   "execution_count": null,
   "metadata": {},
   "outputs": [],
   "source": []
  }
 ],
 "metadata": {
  "kernelspec": {
   "display_name": "Python 3",
   "language": "python",
   "name": "python3"
  },
  "language_info": {
   "codemirror_mode": {
    "name": "ipython",
    "version": 3
   },
   "file_extension": ".py",
   "mimetype": "text/x-python",
   "name": "python",
   "nbconvert_exporter": "python",
   "pygments_lexer": "ipython3",
   "version": "3.8.5"
  }
 },
 "nbformat": 4,
 "nbformat_minor": 4
}
