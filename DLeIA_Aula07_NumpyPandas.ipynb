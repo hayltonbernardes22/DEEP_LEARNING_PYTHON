{
 "cells": [
  {
   "cell_type": "markdown",
   "metadata": {
    "slideshow": {
     "slide_type": "slide"
    }
   },
   "source": [
    "# Aula 06 - Principais bibliotecas Python para Data Science\n",
    "\n",
    "- Numpy\n",
    "- Pandas\n"
   ]
  },
  {
   "cell_type": "markdown",
   "metadata": {
    "slideshow": {
     "slide_type": "slide"
    }
   },
   "source": [
    "## Biblioteca Numpy\n",
    "\n",
    "- Abreviatura de *Numerical Python*\n",
    "- Pedra angular do processamento numérico em Python\n",
    "- Oferece estruturas de dados, algoritmos e rotinas necessários à maioria das aplicações científicas que envolvam dados númericos em Python\n",
    "- Os *arrays* em Numpy são mais eficientes para armazenar e manipular dados do que as outras estruturas de dados nativas (built-in) do Python (e.g., Listas)\n",
    "- Muitas bibliotecas e ferramentas de processamento numérico para Python supõem os arrays Numpy como uma estrutura de dados principal\n",
    "\n",
    "- Comando tradicional para uso:\n",
    "`import numpy as np`"
   ]
  },
  {
   "cell_type": "markdown",
   "metadata": {
    "slideshow": {
     "slide_type": "slide"
    }
   },
   "source": [
    "### O array multidimensional (ndarray)\n",
    "\n",
    "- Um dos principais recursos do NumPy é seu objeto array N-dimensional (ndarray)\n",
    "- Trata-se de um contêiner rápido para conjuntos de dados grandes, permitindo a realização de operações matemáticas em blocos inteiros de dados\n",
    "- É um contêiner genérico multidimensional para dados *homogêneos*, isto é, todos os elementos devem ser do mesmo tipo.\n",
    "\n",
    "- Exemplo:"
   ]
  },
  {
   "cell_type": "code",
   "execution_count": null,
   "metadata": {
    "ExecuteTime": {
     "end_time": "2021-01-18T00:21:48.481304Z",
     "start_time": "2021-01-18T00:21:47.537635Z"
    },
    "slideshow": {
     "slide_type": "fragment"
    }
   },
   "outputs": [],
   "source": [
    "import numpy as np  \n",
    "data = np.random.randn(2, 3)\n",
    "print(data)"
   ]
  },
  {
   "cell_type": "markdown",
   "metadata": {
    "slideshow": {
     "slide_type": "slide"
    }
   },
   "source": [
    "- É possível escrever operações matemáticas aplicadas ao array:"
   ]
  },
  {
   "cell_type": "code",
   "execution_count": null,
   "metadata": {
    "ExecuteTime": {
     "end_time": "2021-01-03T01:47:45.670996Z",
     "start_time": "2021-01-03T01:47:45.665603Z"
    },
    "slideshow": {
     "slide_type": "fragment"
    }
   },
   "outputs": [],
   "source": [
    "print(data)"
   ]
  },
  {
   "cell_type": "code",
   "execution_count": null,
   "metadata": {
    "ExecuteTime": {
     "end_time": "2021-01-03T01:47:46.593624Z",
     "start_time": "2021-01-03T01:47:46.580099Z"
    },
    "slideshow": {
     "slide_type": "fragment"
    }
   },
   "outputs": [],
   "source": [
    "data * 10"
   ]
  },
  {
   "cell_type": "code",
   "execution_count": null,
   "metadata": {
    "ExecuteTime": {
     "end_time": "2021-01-03T01:47:47.048398Z",
     "start_time": "2021-01-03T01:47:47.043803Z"
    },
    "slideshow": {
     "slide_type": "fragment"
    }
   },
   "outputs": [],
   "source": [
    "data + data"
   ]
  },
  {
   "cell_type": "markdown",
   "metadata": {
    "slideshow": {
     "slide_type": "slide"
    }
   },
   "source": [
    "### Criando ndarrays\n",
    "\n",
    "- A maneira mais fácil de criar um array é usar a função `array`\n",
    "- Ela aceita qualquer objeto do tipo sequência (uma lista, por exemplo) e gera um novo array Numpy"
   ]
  },
  {
   "cell_type": "code",
   "execution_count": null,
   "metadata": {
    "ExecuteTime": {
     "end_time": "2020-12-24T13:37:16.337729Z",
     "start_time": "2020-12-24T13:37:16.335457Z"
    },
    "slideshow": {
     "slide_type": "fragment"
    }
   },
   "outputs": [],
   "source": [
    "lista = [6, 6.75, 8, 0, 1]"
   ]
  },
  {
   "cell_type": "code",
   "execution_count": null,
   "metadata": {},
   "outputs": [],
   "source": [
    "lista"
   ]
  },
  {
   "cell_type": "code",
   "execution_count": null,
   "metadata": {
    "ExecuteTime": {
     "end_time": "2020-12-24T13:37:38.659009Z",
     "start_time": "2020-12-24T13:37:38.656872Z"
    },
    "slideshow": {
     "slide_type": "fragment"
    }
   },
   "outputs": [],
   "source": [
    "arr1 = np.array(lista)"
   ]
  },
  {
   "cell_type": "code",
   "execution_count": null,
   "metadata": {
    "ExecuteTime": {
     "end_time": "2020-12-24T13:37:44.090393Z",
     "start_time": "2020-12-24T13:37:44.086541Z"
    },
    "slideshow": {
     "slide_type": "fragment"
    }
   },
   "outputs": [],
   "source": [
    "arr1"
   ]
  },
  {
   "cell_type": "code",
   "execution_count": null,
   "metadata": {
    "ExecuteTime": {
     "end_time": "2020-12-24T13:37:48.872960Z",
     "start_time": "2020-12-24T13:37:48.869717Z"
    },
    "slideshow": {
     "slide_type": "fragment"
    }
   },
   "outputs": [],
   "source": [
    "type(arr1)"
   ]
  },
  {
   "cell_type": "code",
   "execution_count": null,
   "metadata": {
    "ExecuteTime": {
     "end_time": "2020-12-24T13:38:36.621058Z",
     "start_time": "2020-12-24T13:38:36.617597Z"
    },
    "slideshow": {
     "slide_type": "slide"
    }
   },
   "outputs": [],
   "source": [
    "arr1.ndim #número de dimensões"
   ]
  },
  {
   "cell_type": "code",
   "execution_count": null,
   "metadata": {
    "ExecuteTime": {
     "end_time": "2020-12-24T13:38:57.724724Z",
     "start_time": "2020-12-24T13:38:57.721439Z"
    },
    "scrolled": true,
    "slideshow": {
     "slide_type": "fragment"
    }
   },
   "outputs": [],
   "source": [
    "arr1.shape #formato"
   ]
  },
  {
   "cell_type": "markdown",
   "metadata": {
    "slideshow": {
     "slide_type": "slide"
    }
   },
   "source": [
    "- Arrays multidimensionais \n",
    "\n"
   ]
  },
  {
   "cell_type": "code",
   "execution_count": null,
   "metadata": {
    "ExecuteTime": {
     "end_time": "2020-12-24T13:47:33.756140Z",
     "start_time": "2020-12-24T13:47:33.753199Z"
    },
    "slideshow": {
     "slide_type": "fragment"
    }
   },
   "outputs": [],
   "source": [
    "a = np.zeros((2,2))\n",
    "print(a)"
   ]
  },
  {
   "cell_type": "code",
   "execution_count": null,
   "metadata": {
    "ExecuteTime": {
     "end_time": "2020-12-24T13:47:47.437246Z",
     "start_time": "2020-12-24T13:47:47.433685Z"
    },
    "slideshow": {
     "slide_type": "fragment"
    }
   },
   "outputs": [],
   "source": [
    "a.ndim"
   ]
  },
  {
   "cell_type": "code",
   "execution_count": null,
   "metadata": {
    "ExecuteTime": {
     "end_time": "2020-12-24T13:47:53.452026Z",
     "start_time": "2020-12-24T13:47:53.447952Z"
    },
    "slideshow": {
     "slide_type": "fragment"
    }
   },
   "outputs": [],
   "source": [
    "a.shape"
   ]
  },
  {
   "cell_type": "code",
   "execution_count": null,
   "metadata": {
    "ExecuteTime": {
     "end_time": "2020-12-24T13:49:12.935859Z",
     "start_time": "2020-12-24T13:49:12.932559Z"
    },
    "slideshow": {
     "slide_type": "fragment"
    }
   },
   "outputs": [],
   "source": [
    "b = np.random.randn(2, 3)\n",
    "print(b)\n",
    "print('n dims: ', b.ndim)\n",
    "print('shape: ', b.shape)"
   ]
  },
  {
   "cell_type": "markdown",
   "metadata": {
    "slideshow": {
     "slide_type": "slide"
    }
   },
   "source": [
    "- Operações matemáticas"
   ]
  },
  {
   "cell_type": "code",
   "execution_count": null,
   "metadata": {
    "ExecuteTime": {
     "end_time": "2020-12-24T13:50:32.560023Z",
     "start_time": "2020-12-24T13:50:32.555827Z"
    },
    "slideshow": {
     "slide_type": "fragment"
    }
   },
   "outputs": [],
   "source": [
    "x = np.array([[1,2],[3,4]], dtype=np.float64)\n",
    "y = np.array([[5,6],[7,8]], dtype=np.float64)\n",
    "print('x = \\n', x)\n",
    "print('y = \\n', y)"
   ]
  },
  {
   "cell_type": "code",
   "execution_count": null,
   "metadata": {
    "ExecuteTime": {
     "end_time": "2020-12-24T13:51:08.031955Z",
     "start_time": "2020-12-24T13:51:08.028853Z"
    },
    "slideshow": {
     "slide_type": "fragment"
    }
   },
   "outputs": [],
   "source": [
    "# Soma \n",
    "print(x+y)"
   ]
  },
  {
   "cell_type": "code",
   "execution_count": null,
   "metadata": {
    "ExecuteTime": {
     "end_time": "2020-12-24T13:51:17.362228Z",
     "start_time": "2020-12-24T13:51:17.359510Z"
    },
    "slideshow": {
     "slide_type": "fragment"
    }
   },
   "outputs": [],
   "source": [
    "# Subtração\n",
    "print(x-y)"
   ]
  },
  {
   "cell_type": "code",
   "execution_count": null,
   "metadata": {
    "ExecuteTime": {
     "end_time": "2020-12-24T13:57:17.573819Z",
     "start_time": "2020-12-24T13:57:17.571158Z"
    },
    "slideshow": {
     "slide_type": "fragment"
    }
   },
   "outputs": [],
   "source": [
    "# Multiplicação\n",
    "print(x*y)"
   ]
  },
  {
   "cell_type": "code",
   "execution_count": null,
   "metadata": {
    "ExecuteTime": {
     "end_time": "2020-12-24T14:05:29.390975Z",
     "start_time": "2020-12-24T14:05:29.388294Z"
    },
    "slideshow": {
     "slide_type": "fragment"
    }
   },
   "outputs": [],
   "source": [
    "# Divisão\n",
    "print(x/y)"
   ]
  },
  {
   "cell_type": "markdown",
   "metadata": {
    "slideshow": {
     "slide_type": "slide"
    }
   },
   "source": [
    "- Operações nos elementos de um array\n",
    "\n"
   ]
  },
  {
   "cell_type": "code",
   "execution_count": null,
   "metadata": {
    "ExecuteTime": {
     "end_time": "2020-12-24T20:52:17.064864Z",
     "start_time": "2020-12-24T20:52:17.061847Z"
    },
    "slideshow": {
     "slide_type": "fragment"
    }
   },
   "outputs": [],
   "source": [
    "x = np.array([[1,2], [3,4]])\n",
    "print(x)"
   ]
  },
  {
   "cell_type": "code",
   "execution_count": null,
   "metadata": {
    "ExecuteTime": {
     "end_time": "2020-12-24T20:52:17.733571Z",
     "start_time": "2020-12-24T20:52:17.730818Z"
    },
    "slideshow": {
     "slide_type": "fragment"
    }
   },
   "outputs": [],
   "source": [
    "print(np.sum(x))"
   ]
  },
  {
   "cell_type": "code",
   "execution_count": null,
   "metadata": {
    "ExecuteTime": {
     "end_time": "2020-12-24T14:09:05.756008Z",
     "start_time": "2020-12-24T14:09:05.753025Z"
    },
    "slideshow": {
     "slide_type": "fragment"
    }
   },
   "outputs": [],
   "source": [
    "print(np.sum(x, axis = 0)) # soma colunas"
   ]
  },
  {
   "cell_type": "code",
   "execution_count": null,
   "metadata": {
    "ExecuteTime": {
     "end_time": "2020-12-24T14:09:22.166695Z",
     "start_time": "2020-12-24T14:09:22.163414Z"
    },
    "slideshow": {
     "slide_type": "fragment"
    }
   },
   "outputs": [],
   "source": [
    "print(np.sum(x, axis = 1)) # soma linhas"
   ]
  },
  {
   "cell_type": "code",
   "execution_count": null,
   "metadata": {
    "ExecuteTime": {
     "end_time": "2020-12-24T14:08:12.969623Z",
     "start_time": "2020-12-24T14:08:12.966823Z"
    },
    "slideshow": {
     "slide_type": "fragment"
    }
   },
   "outputs": [],
   "source": [
    "print(x.T) # transposta"
   ]
  },
  {
   "cell_type": "code",
   "execution_count": null,
   "metadata": {},
   "outputs": [],
   "source": [
    "x"
   ]
  },
  {
   "cell_type": "markdown",
   "metadata": {
    "slideshow": {
     "slide_type": "slide"
    }
   },
   "source": [
    "- Reshaping\n",
    "\n",
    "![https://backtobazics.com/wp-content/uploads/2018/08/numpy-reshape-examples.jpg](https://backtobazics.com/wp-content/uploads/2018/08/numpy-reshape-examples.jpg)"
   ]
  },
  {
   "cell_type": "code",
   "execution_count": null,
   "metadata": {
    "ExecuteTime": {
     "end_time": "2020-12-24T14:13:05.250166Z",
     "start_time": "2020-12-24T14:13:05.247398Z"
    },
    "slideshow": {
     "slide_type": "slide"
    }
   },
   "outputs": [],
   "source": [
    "array = np.arange(8) \n",
    "print(\"array : \\n\", array) \n",
    "  "
   ]
  },
  {
   "cell_type": "code",
   "execution_count": null,
   "metadata": {
    "ExecuteTime": {
     "end_time": "2020-12-24T14:13:05.704440Z",
     "start_time": "2020-12-24T14:13:05.701453Z"
    },
    "slideshow": {
     "slide_type": "fragment"
    }
   },
   "outputs": [],
   "source": [
    "array = np.arange(8).reshape(2, 4)\n",
    "print(\"\\nreshaped 2x4: \\n\", array)"
   ]
  },
  {
   "cell_type": "code",
   "execution_count": null,
   "metadata": {
    "ExecuteTime": {
     "end_time": "2020-12-24T14:13:06.406032Z",
     "start_time": "2020-12-24T14:13:06.402911Z"
    },
    "slideshow": {
     "slide_type": "fragment"
    }
   },
   "outputs": [],
   "source": [
    "array = np.arange(8).reshape(4, 2)\n",
    "print(\"\\nreshaped 4x2 : \\n\", array)"
   ]
  },
  {
   "cell_type": "code",
   "execution_count": null,
   "metadata": {
    "ExecuteTime": {
     "end_time": "2020-12-24T14:13:06.794011Z",
     "start_time": "2020-12-24T14:13:06.790670Z"
    },
    "slideshow": {
     "slide_type": "fragment"
    }
   },
   "outputs": [],
   "source": [
    "\n",
    "array = np.arange(8).reshape(2, 2, 2) \n",
    "print(\"\\nreshaped 3D : \\n\", array)\n"
   ]
  },
  {
   "cell_type": "markdown",
   "metadata": {
    "slideshow": {
     "slide_type": "slide"
    }
   },
   "source": [
    "### Os arrays numpy são mais rápidos"
   ]
  },
  {
   "cell_type": "code",
   "execution_count": null,
   "metadata": {
    "ExecuteTime": {
     "end_time": "2020-12-28T16:09:12.863834Z",
     "start_time": "2020-12-28T16:09:11.027858Z"
    },
    "slideshow": {
     "slide_type": "fragment"
    }
   },
   "outputs": [],
   "source": [
    "L = range(1000)\n",
    "%timeit [i**2 for i in L]"
   ]
  },
  {
   "cell_type": "code",
   "execution_count": null,
   "metadata": {
    "ExecuteTime": {
     "end_time": "2020-12-28T16:09:38.572036Z",
     "start_time": "2020-12-28T16:09:32.224968Z"
    },
    "slideshow": {
     "slide_type": "fragment"
    }
   },
   "outputs": [],
   "source": [
    "a = np.arange(1000)\n",
    "%timeit a**2"
   ]
  },
  {
   "cell_type": "markdown",
   "metadata": {
    "slideshow": {
     "slide_type": "slide"
    }
   },
   "source": [
    "### Criando arrays com funções da Numpy"
   ]
  },
  {
   "cell_type": "code",
   "execution_count": null,
   "metadata": {
    "ExecuteTime": {
     "end_time": "2021-01-03T01:49:59.132043Z",
     "start_time": "2021-01-03T01:49:59.126599Z"
    },
    "slideshow": {
     "slide_type": "fragment"
    }
   },
   "outputs": [],
   "source": [
    "# criar um range\n",
    "x = np.arange(0, 10, 1) #start, stop, step\n",
    "print(x)"
   ]
  },
  {
   "cell_type": "code",
   "execution_count": null,
   "metadata": {
    "ExecuteTime": {
     "end_time": "2021-01-03T01:50:17.702478Z",
     "start_time": "2021-01-03T01:50:17.696221Z"
    },
    "slideshow": {
     "slide_type": "fragment"
    }
   },
   "outputs": [],
   "source": [
    "x = np.arange(-1, 1, 0.1)\n",
    "print(x)"
   ]
  },
  {
   "cell_type": "code",
   "execution_count": null,
   "metadata": {
    "ExecuteTime": {
     "end_time": "2021-01-03T01:52:41.835132Z",
     "start_time": "2021-01-03T01:52:41.820254Z"
    },
    "slideshow": {
     "slide_type": "slide"
    }
   },
   "outputs": [],
   "source": [
    "# linspace (neste caso, os extremos são incluídos)\n",
    "np.linspace(0, 10, 25)"
   ]
  },
  {
   "cell_type": "code",
   "execution_count": null,
   "metadata": {
    "ExecuteTime": {
     "end_time": "2021-01-03T01:53:03.500208Z",
     "start_time": "2021-01-03T01:53:03.495288Z"
    },
    "slideshow": {
     "slide_type": "fragment"
    }
   },
   "outputs": [],
   "source": [
    "np.logspace(0, 10, 10, base=np.e)"
   ]
  },
  {
   "cell_type": "markdown",
   "metadata": {
    "slideshow": {
     "slide_type": "slide"
    }
   },
   "source": [
    "## Bibliotecas Pandas\n",
    "\n",
    "- Oferece estruturas de dados de alto nível e funções projetadas para que o trabalho com dados *estruturados* ou *tabulares* seja rápido, fácil e expressivo\n",
    "- É uma das bibliotecas mais populares de Python\n",
    "- Suas principais estruturas de dados são: \n",
    "    - *Series* - um objeto array unidimensional com rótulo\n",
    "    - *DataFrame* - uma estrutura de dados tabular, orientada a colunas, com rótulos tanto para linhas quanto para colunas\n",
    "    \n",
    "- Enquanto que a biblioteca Numpy foi projetada para trabalhar com dados numéricos homogêneos em arrays, Pandas foi projetada para trabalhar com dados tabulares e heterogêneos\n",
    "\n",
    "- Importação: `import pandas as pd`"
   ]
  },
  {
   "cell_type": "markdown",
   "metadata": {
    "slideshow": {
     "slide_type": "slide"
    }
   },
   "source": [
    "**Pandas Series** \n",
    "\n",
    "- É um objeto do tipo array unidimensional contendo uma sequência de valores e um array associado de rótulos chamado de *índice*\n",
    "- Pandas Series serão as colunas de um Pandas DataFrame"
   ]
  },
  {
   "cell_type": "code",
   "execution_count": null,
   "metadata": {
    "ExecuteTime": {
     "end_time": "2020-12-24T15:20:00.270839Z",
     "start_time": "2020-12-24T15:19:51.202921Z"
    },
    "slideshow": {
     "slide_type": "fragment"
    }
   },
   "outputs": [],
   "source": [
    "import pandas as pd\n",
    "obj = pd.Series([4, 7, -5, 3])\n",
    "print(obj)"
   ]
  },
  {
   "cell_type": "code",
   "execution_count": null,
   "metadata": {
    "ExecuteTime": {
     "end_time": "2020-12-24T15:20:58.176193Z",
     "start_time": "2020-12-24T15:20:58.171054Z"
    },
    "slideshow": {
     "slide_type": "slide"
    }
   },
   "outputs": [],
   "source": [
    "print(obj)\n",
    "\n",
    "obj.values  # array de valores"
   ]
  },
  {
   "cell_type": "code",
   "execution_count": null,
   "metadata": {
    "ExecuteTime": {
     "end_time": "2020-12-24T21:24:16.776132Z",
     "start_time": "2020-12-24T21:24:16.763419Z"
    },
    "slideshow": {
     "slide_type": "fragment"
    }
   },
   "outputs": [],
   "source": [
    "obj.index  # array de rótulos"
   ]
  },
  {
   "cell_type": "markdown",
   "metadata": {
    "slideshow": {
     "slide_type": "slide"
    }
   },
   "source": [
    "- É possível criar uma Series com um índice que identifique cada ponto de dado com um rótulo"
   ]
  },
  {
   "cell_type": "code",
   "execution_count": null,
   "metadata": {
    "ExecuteTime": {
     "end_time": "2020-12-24T15:21:49.564882Z",
     "start_time": "2020-12-24T15:21:49.561690Z"
    },
    "slideshow": {
     "slide_type": "fragment"
    }
   },
   "outputs": [],
   "source": [
    "obj2 = pd.Series([4, 7, -5, 3], index=['d', 'b', 'a', 'c'])"
   ]
  },
  {
   "cell_type": "code",
   "execution_count": null,
   "metadata": {
    "ExecuteTime": {
     "end_time": "2020-12-24T15:21:50.961942Z",
     "start_time": "2020-12-24T15:21:50.957975Z"
    },
    "slideshow": {
     "slide_type": "fragment"
    }
   },
   "outputs": [],
   "source": [
    "obj2"
   ]
  },
  {
   "cell_type": "markdown",
   "metadata": {
    "slideshow": {
     "slide_type": "slide"
    }
   },
   "source": [
    "- Obtendo os dados de uma série"
   ]
  },
  {
   "cell_type": "code",
   "execution_count": null,
   "metadata": {
    "ExecuteTime": {
     "end_time": "2020-12-24T15:22:14.782065Z",
     "start_time": "2020-12-24T15:22:14.778423Z"
    },
    "slideshow": {
     "slide_type": "fragment"
    }
   },
   "outputs": [],
   "source": [
    "obj2"
   ]
  },
  {
   "cell_type": "code",
   "execution_count": null,
   "metadata": {
    "ExecuteTime": {
     "end_time": "2020-12-24T15:22:20.792008Z",
     "start_time": "2020-12-24T15:22:20.788338Z"
    },
    "slideshow": {
     "slide_type": "fragment"
    }
   },
   "outputs": [],
   "source": [
    "obj2['a']"
   ]
  },
  {
   "cell_type": "code",
   "execution_count": null,
   "metadata": {},
   "outputs": [],
   "source": [
    "obj2 < 0"
   ]
  },
  {
   "cell_type": "code",
   "execution_count": null,
   "metadata": {
    "ExecuteTime": {
     "end_time": "2020-12-24T15:22:46.147398Z",
     "start_time": "2020-12-24T15:22:46.142539Z"
    },
    "slideshow": {
     "slide_type": "fragment"
    }
   },
   "outputs": [],
   "source": [
    "obj2[obj2 < 0] #filtro"
   ]
  },
  {
   "cell_type": "markdown",
   "metadata": {
    "slideshow": {
     "slide_type": "slide"
    }
   },
   "source": [
    "Outra forma de pensar em uma Series é como um dicionário ordenado de tamanho fixo, como se fosse um mapeamento entre valores de índice e valores de dados"
   ]
  },
  {
   "cell_type": "code",
   "execution_count": null,
   "metadata": {
    "ExecuteTime": {
     "end_time": "2020-12-24T15:23:56.598986Z",
     "start_time": "2020-12-24T15:23:56.596451Z"
    },
    "slideshow": {
     "slide_type": "fragment"
    }
   },
   "outputs": [],
   "source": [
    "sdata = {'Ohio': 35000, 'Texas': 71000, 'Oregon': 16000, 'Utah': 5000}"
   ]
  },
  {
   "cell_type": "code",
   "execution_count": null,
   "metadata": {
    "ExecuteTime": {
     "end_time": "2020-12-24T15:24:03.847737Z",
     "start_time": "2020-12-24T15:24:03.844811Z"
    },
    "slideshow": {
     "slide_type": "fragment"
    }
   },
   "outputs": [],
   "source": [
    "obj3 = pd.Series(sdata)"
   ]
  },
  {
   "cell_type": "code",
   "execution_count": null,
   "metadata": {
    "ExecuteTime": {
     "end_time": "2020-12-24T15:24:07.538900Z",
     "start_time": "2020-12-24T15:24:07.534921Z"
    },
    "slideshow": {
     "slide_type": "fragment"
    }
   },
   "outputs": [],
   "source": [
    "obj3"
   ]
  },
  {
   "cell_type": "markdown",
   "metadata": {
    "slideshow": {
     "slide_type": "slide"
    }
   },
   "source": [
    "**DataFrames**\n",
    "\n",
    "É possível criar um dataframe a partir de Series"
   ]
  },
  {
   "cell_type": "code",
   "execution_count": null,
   "metadata": {
    "ExecuteTime": {
     "end_time": "2020-12-24T15:43:27.780065Z",
     "start_time": "2020-12-24T15:43:27.776265Z"
    },
    "slideshow": {
     "slide_type": "fragment"
    }
   },
   "outputs": [],
   "source": [
    "ser1 = pd.Series([1,2,3,4,5], index=list('abcde'))\n",
    "print(ser1)"
   ]
  },
  {
   "cell_type": "code",
   "execution_count": null,
   "metadata": {
    "ExecuteTime": {
     "end_time": "2020-12-24T15:43:56.024854Z",
     "start_time": "2020-12-24T15:43:56.021242Z"
    },
    "slideshow": {
     "slide_type": "fragment"
    }
   },
   "outputs": [],
   "source": [
    "ser2 = pd.Series([11, 22, 33, 44, 55], index=list('abcde'))\n",
    "print(ser2)"
   ]
  },
  {
   "attachments": {
    "image.png": {
     "image/png": "[encoded data removed]"
    }
   },
   "cell_type": "markdown",
   "metadata": {
    "slideshow": {
     "slide_type": "slide"
    }
   },
   "source": [
    "![dataframe.png](attachment:image.png)"
   ]
  },
  {
   "cell_type": "code",
   "execution_count": null,
   "metadata": {
    "ExecuteTime": {
     "end_time": "2020-12-24T15:44:11.880368Z",
     "start_time": "2020-12-24T15:44:11.877397Z"
    },
    "slideshow": {
     "slide_type": "fragment"
    }
   },
   "outputs": [],
   "source": [
    "df = pd.DataFrame({'A': ser1, 'B': ser2})"
   ]
  },
  {
   "cell_type": "code",
   "execution_count": null,
   "metadata": {
    "ExecuteTime": {
     "end_time": "2020-12-24T15:44:14.558116Z",
     "start_time": "2020-12-24T15:44:14.546076Z"
    },
    "slideshow": {
     "slide_type": "fragment"
    }
   },
   "outputs": [],
   "source": [
    "df"
   ]
  },
  {
   "cell_type": "code",
   "execution_count": null,
   "metadata": {
    "ExecuteTime": {
     "end_time": "2020-12-24T15:45:46.666047Z",
     "start_time": "2020-12-24T15:45:46.662007Z"
    },
    "slideshow": {
     "slide_type": "fragment"
    }
   },
   "outputs": [],
   "source": [
    "df['B']"
   ]
  },
  {
   "cell_type": "code",
   "execution_count": null,
   "metadata": {},
   "outputs": [],
   "source": [
    "df.index"
   ]
  },
  {
   "cell_type": "markdown",
   "metadata": {
    "ExecuteTime": {
     "end_time": "2020-12-24T15:46:35.881412Z",
     "start_time": "2020-12-24T15:46:35.878147Z"
    },
    "slideshow": {
     "slide_type": "slide"
    }
   },
   "source": [
    "- Criando um dataframe do zero\n",
    "\n",
    "Considere as seguintes taxas de conversão entre as seguintes moedas:\n",
    "\n",
    "|     | USB  | EUR  | GBP  |\n",
    "|-----|------|------|------|\n",
    "| USD | 1.0  | 0.91 | 0.79 |\n",
    "| EUR | 1.1  | 1.0  | 0.87 |\n",
    "| GBP | 1.26 | 1.14 | 1.0  |\n",
    "\n",
    "\n",
    "Observando a tabela acima, temos:\n",
    "\n",
    "- Cada coluna dessa tabela é representada por uma **Series**\n",
    "- A tabela é armazenada como um **DataFrame**"
   ]
  },
  {
   "cell_type": "markdown",
   "metadata": {
    "slideshow": {
     "slide_type": "slide"
    }
   },
   "source": [
    "Vamos criar este dataframe.\n",
    "\n"
   ]
  },
  {
   "cell_type": "code",
   "execution_count": null,
   "metadata": {
    "slideshow": {
     "slide_type": "fragment"
    }
   },
   "outputs": [],
   "source": [
    "import pandas as pd\n",
    "import numpy as np \n",
    "\n",
    "moedas = ['USD', 'EUR', 'GBP']\n",
    "usd_data = np.array([1.0, 1.1, 1.26])\n",
    "usd = pd.Series(usd_data, index=moedas)\n",
    "usd"
   ]
  },
  {
   "cell_type": "code",
   "execution_count": null,
   "metadata": {
    "slideshow": {
     "slide_type": "fragment"
    }
   },
   "outputs": [],
   "source": [
    "usd['EUR']"
   ]
  },
  {
   "cell_type": "code",
   "execution_count": null,
   "metadata": {
    "slideshow": {
     "slide_type": "fragment"
    }
   },
   "outputs": [],
   "source": [
    "usd.values"
   ]
  },
  {
   "cell_type": "code",
   "execution_count": null,
   "metadata": {
    "slideshow": {
     "slide_type": "fragment"
    }
   },
   "outputs": [],
   "source": [
    "usd.index"
   ]
  },
  {
   "cell_type": "markdown",
   "metadata": {
    "slideshow": {
     "slide_type": "slide"
    }
   },
   "source": [
    "Código completo"
   ]
  },
  {
   "cell_type": "code",
   "execution_count": null,
   "metadata": {
    "slideshow": {
     "slide_type": "fragment"
    }
   },
   "outputs": [],
   "source": [
    "import pandas as pd\n",
    "import numpy as np\n",
    "\n",
    "moedas = ['USD', 'EUR', 'GBP']\n",
    "\n",
    "usd_data = np.array([1.0, 1.1, 1.26])\n",
    "eur_data = np.array([0.91, 1.0, 1.14])\n",
    "gbp_data = np.array([0.79, 0.87, 1.0])\n",
    "\n",
    "usd = pd.Series(usd_data, index=moedas)\n",
    "eur = pd.Series(eur_data, index=moedas)\n",
    "gbp = pd.Series(gbp_data, index=moedas)\n",
    "\n",
    "dic = {'USD': usd, 'EUR': eur, 'GBP': gbp}\n",
    "\n",
    "taxas = pd.DataFrame(dic)\n",
    "\n",
    "taxas"
   ]
  },
  {
   "cell_type": "markdown",
   "metadata": {},
   "source": [
    "Obtendo dados do Dataframe"
   ]
  },
  {
   "cell_type": "code",
   "execution_count": null,
   "metadata": {},
   "outputs": [],
   "source": [
    "taxas.index"
   ]
  },
  {
   "cell_type": "code",
   "execution_count": null,
   "metadata": {},
   "outputs": [],
   "source": [
    "taxas.columns"
   ]
  },
  {
   "cell_type": "code",
   "execution_count": null,
   "metadata": {},
   "outputs": [],
   "source": [
    "taxas['USD']"
   ]
  },
  {
   "cell_type": "code",
   "execution_count": null,
   "metadata": {},
   "outputs": [],
   "source": [
    "taxas['EUR']['GBP']"
   ]
  },
  {
   "cell_type": "markdown",
   "metadata": {
    "slideshow": {
     "slide_type": "slide"
    }
   },
   "source": [
    "Podemos exportar o dataframe"
   ]
  },
  {
   "cell_type": "code",
   "execution_count": null,
   "metadata": {
    "slideshow": {
     "slide_type": "fragment"
    }
   },
   "outputs": [],
   "source": [
    "taxas.to_csv('taxas.csv')"
   ]
  },
  {
   "cell_type": "markdown",
   "metadata": {
    "slideshow": {
     "slide_type": "slide"
    }
   },
   "source": [
    "Lendo o dataframe a partir do csv"
   ]
  },
  {
   "cell_type": "code",
   "execution_count": null,
   "metadata": {
    "slideshow": {
     "slide_type": "fragment"
    }
   },
   "outputs": [],
   "source": [
    "taxas_csv = pd.read_csv('taxas.csv')"
   ]
  },
  {
   "cell_type": "code",
   "execution_count": null,
   "metadata": {
    "slideshow": {
     "slide_type": "fragment"
    }
   },
   "outputs": [],
   "source": [
    "taxas_csv"
   ]
  },
  {
   "cell_type": "code",
   "execution_count": null,
   "metadata": {
    "slideshow": {
     "slide_type": "slide"
    }
   },
   "outputs": [],
   "source": [
    "taxas_csv = pd.read_csv('taxas.csv', index_col=0)\n",
    "taxas_csv"
   ]
  },
  {
   "cell_type": "code",
   "execution_count": null,
   "metadata": {},
   "outputs": [],
   "source": []
  }
 ],
 "metadata": {
  "celltoolbar": "Slideshow",
  "kernelspec": {
   "display_name": "Python 3",
   "language": "python",
   "name": "python3"
  },
  "language_info": {
   "codemirror_mode": {
    "name": "ipython",
    "version": 3
   },
   "file_extension": ".py",
   "mimetype": "text/x-python",
   "name": "python",
   "nbconvert_exporter": "python",
   "pygments_lexer": "ipython3",
   "version": "3.8.5"
  },
  "nteract": {
   "version": "0.27.0"
  },
  "toc": {
   "base_numbering": 1,
   "nav_menu": {},
   "number_sections": true,
   "sideBar": true,
   "skip_h1_title": false,
   "title_cell": "Table of Contents",
   "title_sidebar": "Contents",
   "toc_cell": false,
   "toc_position": {},
   "toc_section_display": true,
   "toc_window_display": false
  }
 },
 "nbformat": 4,
 "nbformat_minor": 4
}
