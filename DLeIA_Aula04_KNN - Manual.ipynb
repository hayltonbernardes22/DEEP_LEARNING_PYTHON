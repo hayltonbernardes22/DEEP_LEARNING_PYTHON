{
 "cells": [
  {
   "cell_type": "markdown",
   "metadata": {},
   "source": [
    "# Aula 04 - KNN\n",
    "\n",
    "Predições de valores por meio do método dos K vizinhos mais próximos"
   ]
  },
  {
   "cell_type": "code",
   "execution_count": 1,
   "metadata": {},
   "outputs": [],
   "source": [
    "def distancia_euclidiana(A, B):\n",
    "    import math\n",
    "    \n",
    "    if len(A) != len(B):\n",
    "        print(\"Vetores de tamanho diferente\")\n",
    "        return None\n",
    "    \n",
    "    soma = 0\n",
    "    for i in range(len(A)):\n",
    "        soma += (A[i]-B[i])**2   # soma = soma + (A[i]-B[i])**2\n",
    "    return math.sqrt(soma)"
   ]
  },
  {
   "cell_type": "code",
   "execution_count": 2,
   "metadata": {},
   "outputs": [],
   "source": [
    "A = [5, 3]\n",
    "B = [1, 1.5]"
   ]
  },
  {
   "cell_type": "code",
   "execution_count": 3,
   "metadata": {},
   "outputs": [
    {
     "data": {
      "text/plain": [
       "4.272001872658765"
      ]
     },
     "execution_count": 3,
     "metadata": {},
     "output_type": "execute_result"
    }
   ],
   "source": [
    "distancia_euclidiana(A, B)"
   ]
  },
  {
   "cell_type": "code",
   "execution_count": 4,
   "metadata": {},
   "outputs": [],
   "source": [
    "A = [1, 0, -1]\n",
    "B = [5, 1.5, -9]"
   ]
  },
  {
   "cell_type": "code",
   "execution_count": 5,
   "metadata": {},
   "outputs": [
    {
     "data": {
      "text/plain": [
       "9.069178573608527"
      ]
     },
     "execution_count": 5,
     "metadata": {},
     "output_type": "execute_result"
    }
   ],
   "source": [
    "distancia_euclidiana(A, B)"
   ]
  },
  {
   "cell_type": "code",
   "execution_count": 6,
   "metadata": {},
   "outputs": [],
   "source": [
    "A = [1, 0, -1]\n",
    "B = [5, 1.5, -9, 25]"
   ]
  },
  {
   "cell_type": "code",
   "execution_count": 7,
   "metadata": {},
   "outputs": [
    {
     "name": "stdout",
     "output_type": "stream",
     "text": [
      "Vetores de tamanho diferente\n",
      "Deu erro!\n"
     ]
    }
   ],
   "source": [
    "if distancia_euclidiana(A, B) == None:\n",
    "    print(\"Deu erro!\")"
   ]
  },
  {
   "cell_type": "code",
   "execution_count": null,
   "metadata": {},
   "outputs": [],
   "source": []
  },
  {
   "cell_type": "code",
   "execution_count": 9,
   "metadata": {},
   "outputs": [],
   "source": [
    "import pandas as pd\n",
    "colunas = [\"temporada\", \"idade\", \"doenças infantis\", \"acidente\", \n",
    "           \"cirurgia\", \"febre\", \"alcool\", \"fumo\", \"horas_sentado\", \n",
    "           \"output\"]\n",
    "df = pd.read_csv(\"fertility_Diagnosis.txt\", header=None) "
   ]
  },
  {
   "cell_type": "code",
   "execution_count": 10,
   "metadata": {},
   "outputs": [],
   "source": [
    "# -0.33,0.69,0,1,1,0,0.8,0,0.88,N"
   ]
  },
  {
   "cell_type": "code",
   "execution_count": 11,
   "metadata": {},
   "outputs": [
    {
     "data": {
      "text/html": [
       "<div>\n",
       "<style scoped>\n",
       "    .dataframe tbody tr th:only-of-type {\n",
       "        vertical-align: middle;\n",
       "    }\n",
       "\n",
       "    .dataframe tbody tr th {\n",
       "        vertical-align: top;\n",
       "    }\n",
       "\n",
       "    .dataframe thead th {\n",
       "        text-align: right;\n",
       "    }\n",
       "</style>\n",
       "<table border=\"1\" class=\"dataframe\">\n",
       "  <thead>\n",
       "    <tr style=\"text-align: right;\">\n",
       "      <th></th>\n",
       "      <th>0</th>\n",
       "      <th>1</th>\n",
       "      <th>2</th>\n",
       "      <th>3</th>\n",
       "      <th>4</th>\n",
       "      <th>5</th>\n",
       "      <th>6</th>\n",
       "      <th>7</th>\n",
       "      <th>8</th>\n",
       "      <th>9</th>\n",
       "    </tr>\n",
       "  </thead>\n",
       "  <tbody>\n",
       "    <tr>\n",
       "      <th>0</th>\n",
       "      <td>-0.33</td>\n",
       "      <td>0.69</td>\n",
       "      <td>0</td>\n",
       "      <td>1</td>\n",
       "      <td>1</td>\n",
       "      <td>0</td>\n",
       "      <td>0.8</td>\n",
       "      <td>0</td>\n",
       "      <td>0.88</td>\n",
       "      <td>N</td>\n",
       "    </tr>\n",
       "    <tr>\n",
       "      <th>1</th>\n",
       "      <td>-0.33</td>\n",
       "      <td>0.94</td>\n",
       "      <td>1</td>\n",
       "      <td>0</td>\n",
       "      <td>1</td>\n",
       "      <td>0</td>\n",
       "      <td>0.8</td>\n",
       "      <td>1</td>\n",
       "      <td>0.31</td>\n",
       "      <td>O</td>\n",
       "    </tr>\n",
       "    <tr>\n",
       "      <th>2</th>\n",
       "      <td>-0.33</td>\n",
       "      <td>0.50</td>\n",
       "      <td>1</td>\n",
       "      <td>0</td>\n",
       "      <td>0</td>\n",
       "      <td>0</td>\n",
       "      <td>1.0</td>\n",
       "      <td>-1</td>\n",
       "      <td>0.50</td>\n",
       "      <td>N</td>\n",
       "    </tr>\n",
       "    <tr>\n",
       "      <th>3</th>\n",
       "      <td>-0.33</td>\n",
       "      <td>0.75</td>\n",
       "      <td>0</td>\n",
       "      <td>1</td>\n",
       "      <td>1</td>\n",
       "      <td>0</td>\n",
       "      <td>1.0</td>\n",
       "      <td>-1</td>\n",
       "      <td>0.38</td>\n",
       "      <td>N</td>\n",
       "    </tr>\n",
       "    <tr>\n",
       "      <th>4</th>\n",
       "      <td>-0.33</td>\n",
       "      <td>0.67</td>\n",
       "      <td>1</td>\n",
       "      <td>1</td>\n",
       "      <td>0</td>\n",
       "      <td>0</td>\n",
       "      <td>0.8</td>\n",
       "      <td>-1</td>\n",
       "      <td>0.50</td>\n",
       "      <td>O</td>\n",
       "    </tr>\n",
       "  </tbody>\n",
       "</table>\n",
       "</div>"
      ],
      "text/plain": [
       "      0     1  2  3  4  5    6  7     8  9\n",
       "0 -0.33  0.69  0  1  1  0  0.8  0  0.88  N\n",
       "1 -0.33  0.94  1  0  1  0  0.8  1  0.31  O\n",
       "2 -0.33  0.50  1  0  0  0  1.0 -1  0.50  N\n",
       "3 -0.33  0.75  0  1  1  0  1.0 -1  0.38  N\n",
       "4 -0.33  0.67  1  1  0  0  0.8 -1  0.50  O"
      ]
     },
     "execution_count": 11,
     "metadata": {},
     "output_type": "execute_result"
    }
   ],
   "source": [
    "df.head(5)"
   ]
  },
  {
   "cell_type": "code",
   "execution_count": 12,
   "metadata": {},
   "outputs": [],
   "source": [
    "df.columns = colunas"
   ]
  },
  {
   "cell_type": "code",
   "execution_count": 13,
   "metadata": {},
   "outputs": [
    {
     "data": {
      "text/html": [
       "<div>\n",
       "<style scoped>\n",
       "    .dataframe tbody tr th:only-of-type {\n",
       "        vertical-align: middle;\n",
       "    }\n",
       "\n",
       "    .dataframe tbody tr th {\n",
       "        vertical-align: top;\n",
       "    }\n",
       "\n",
       "    .dataframe thead th {\n",
       "        text-align: right;\n",
       "    }\n",
       "</style>\n",
       "<table border=\"1\" class=\"dataframe\">\n",
       "  <thead>\n",
       "    <tr style=\"text-align: right;\">\n",
       "      <th></th>\n",
       "      <th>temporada</th>\n",
       "      <th>idade</th>\n",
       "      <th>doenças infantis</th>\n",
       "      <th>acidente</th>\n",
       "      <th>cirurgia</th>\n",
       "      <th>febre</th>\n",
       "      <th>alcool</th>\n",
       "      <th>fumo</th>\n",
       "      <th>horas_sentado</th>\n",
       "      <th>output</th>\n",
       "    </tr>\n",
       "  </thead>\n",
       "  <tbody>\n",
       "    <tr>\n",
       "      <th>0</th>\n",
       "      <td>-0.33</td>\n",
       "      <td>0.69</td>\n",
       "      <td>0</td>\n",
       "      <td>1</td>\n",
       "      <td>1</td>\n",
       "      <td>0</td>\n",
       "      <td>0.8</td>\n",
       "      <td>0</td>\n",
       "      <td>0.88</td>\n",
       "      <td>N</td>\n",
       "    </tr>\n",
       "    <tr>\n",
       "      <th>1</th>\n",
       "      <td>-0.33</td>\n",
       "      <td>0.94</td>\n",
       "      <td>1</td>\n",
       "      <td>0</td>\n",
       "      <td>1</td>\n",
       "      <td>0</td>\n",
       "      <td>0.8</td>\n",
       "      <td>1</td>\n",
       "      <td>0.31</td>\n",
       "      <td>O</td>\n",
       "    </tr>\n",
       "    <tr>\n",
       "      <th>2</th>\n",
       "      <td>-0.33</td>\n",
       "      <td>0.50</td>\n",
       "      <td>1</td>\n",
       "      <td>0</td>\n",
       "      <td>0</td>\n",
       "      <td>0</td>\n",
       "      <td>1.0</td>\n",
       "      <td>-1</td>\n",
       "      <td>0.50</td>\n",
       "      <td>N</td>\n",
       "    </tr>\n",
       "    <tr>\n",
       "      <th>3</th>\n",
       "      <td>-0.33</td>\n",
       "      <td>0.75</td>\n",
       "      <td>0</td>\n",
       "      <td>1</td>\n",
       "      <td>1</td>\n",
       "      <td>0</td>\n",
       "      <td>1.0</td>\n",
       "      <td>-1</td>\n",
       "      <td>0.38</td>\n",
       "      <td>N</td>\n",
       "    </tr>\n",
       "    <tr>\n",
       "      <th>4</th>\n",
       "      <td>-0.33</td>\n",
       "      <td>0.67</td>\n",
       "      <td>1</td>\n",
       "      <td>1</td>\n",
       "      <td>0</td>\n",
       "      <td>0</td>\n",
       "      <td>0.8</td>\n",
       "      <td>-1</td>\n",
       "      <td>0.50</td>\n",
       "      <td>O</td>\n",
       "    </tr>\n",
       "  </tbody>\n",
       "</table>\n",
       "</div>"
      ],
      "text/plain": [
       "   temporada  idade  doenças infantis  acidente  cirurgia  febre  alcool  \\\n",
       "0      -0.33   0.69                 0         1         1      0     0.8   \n",
       "1      -0.33   0.94                 1         0         1      0     0.8   \n",
       "2      -0.33   0.50                 1         0         0      0     1.0   \n",
       "3      -0.33   0.75                 0         1         1      0     1.0   \n",
       "4      -0.33   0.67                 1         1         0      0     0.8   \n",
       "\n",
       "   fumo  horas_sentado output  \n",
       "0     0           0.88      N  \n",
       "1     1           0.31      O  \n",
       "2    -1           0.50      N  \n",
       "3    -1           0.38      N  \n",
       "4    -1           0.50      O  "
      ]
     },
     "execution_count": 13,
     "metadata": {},
     "output_type": "execute_result"
    }
   ],
   "source": [
    "df.head(5)"
   ]
  },
  {
   "cell_type": "code",
   "execution_count": 14,
   "metadata": {},
   "outputs": [
    {
     "data": {
      "text/plain": [
       "0     N\n",
       "1     O\n",
       "2     N\n",
       "3     N\n",
       "4     O\n",
       "     ..\n",
       "95    N\n",
       "96    N\n",
       "97    N\n",
       "98    N\n",
       "99    N\n",
       "Name: output, Length: 100, dtype: object"
      ]
     },
     "execution_count": 14,
     "metadata": {},
     "output_type": "execute_result"
    }
   ],
   "source": [
    "df[\"output\"]"
   ]
  },
  {
   "cell_type": "code",
   "execution_count": 15,
   "metadata": {},
   "outputs": [],
   "source": [
    "def troca_label(label):\n",
    "    if label == \"N\":\n",
    "        return 0\n",
    "    else: \n",
    "        return 1"
   ]
  },
  {
   "cell_type": "code",
   "execution_count": 16,
   "metadata": {},
   "outputs": [],
   "source": [
    "df[\"output\"] = df[\"output\"].apply(troca_label)"
   ]
  },
  {
   "cell_type": "code",
   "execution_count": 17,
   "metadata": {},
   "outputs": [
    {
     "data": {
      "text/html": [
       "<div>\n",
       "<style scoped>\n",
       "    .dataframe tbody tr th:only-of-type {\n",
       "        vertical-align: middle;\n",
       "    }\n",
       "\n",
       "    .dataframe tbody tr th {\n",
       "        vertical-align: top;\n",
       "    }\n",
       "\n",
       "    .dataframe thead th {\n",
       "        text-align: right;\n",
       "    }\n",
       "</style>\n",
       "<table border=\"1\" class=\"dataframe\">\n",
       "  <thead>\n",
       "    <tr style=\"text-align: right;\">\n",
       "      <th></th>\n",
       "      <th>temporada</th>\n",
       "      <th>idade</th>\n",
       "      <th>doenças infantis</th>\n",
       "      <th>acidente</th>\n",
       "      <th>cirurgia</th>\n",
       "      <th>febre</th>\n",
       "      <th>alcool</th>\n",
       "      <th>fumo</th>\n",
       "      <th>horas_sentado</th>\n",
       "      <th>output</th>\n",
       "    </tr>\n",
       "  </thead>\n",
       "  <tbody>\n",
       "    <tr>\n",
       "      <th>0</th>\n",
       "      <td>-0.33</td>\n",
       "      <td>0.69</td>\n",
       "      <td>0</td>\n",
       "      <td>1</td>\n",
       "      <td>1</td>\n",
       "      <td>0</td>\n",
       "      <td>0.8</td>\n",
       "      <td>0</td>\n",
       "      <td>0.88</td>\n",
       "      <td>0</td>\n",
       "    </tr>\n",
       "    <tr>\n",
       "      <th>1</th>\n",
       "      <td>-0.33</td>\n",
       "      <td>0.94</td>\n",
       "      <td>1</td>\n",
       "      <td>0</td>\n",
       "      <td>1</td>\n",
       "      <td>0</td>\n",
       "      <td>0.8</td>\n",
       "      <td>1</td>\n",
       "      <td>0.31</td>\n",
       "      <td>1</td>\n",
       "    </tr>\n",
       "    <tr>\n",
       "      <th>2</th>\n",
       "      <td>-0.33</td>\n",
       "      <td>0.50</td>\n",
       "      <td>1</td>\n",
       "      <td>0</td>\n",
       "      <td>0</td>\n",
       "      <td>0</td>\n",
       "      <td>1.0</td>\n",
       "      <td>-1</td>\n",
       "      <td>0.50</td>\n",
       "      <td>0</td>\n",
       "    </tr>\n",
       "    <tr>\n",
       "      <th>3</th>\n",
       "      <td>-0.33</td>\n",
       "      <td>0.75</td>\n",
       "      <td>0</td>\n",
       "      <td>1</td>\n",
       "      <td>1</td>\n",
       "      <td>0</td>\n",
       "      <td>1.0</td>\n",
       "      <td>-1</td>\n",
       "      <td>0.38</td>\n",
       "      <td>0</td>\n",
       "    </tr>\n",
       "    <tr>\n",
       "      <th>4</th>\n",
       "      <td>-0.33</td>\n",
       "      <td>0.67</td>\n",
       "      <td>1</td>\n",
       "      <td>1</td>\n",
       "      <td>0</td>\n",
       "      <td>0</td>\n",
       "      <td>0.8</td>\n",
       "      <td>-1</td>\n",
       "      <td>0.50</td>\n",
       "      <td>1</td>\n",
       "    </tr>\n",
       "  </tbody>\n",
       "</table>\n",
       "</div>"
      ],
      "text/plain": [
       "   temporada  idade  doenças infantis  acidente  cirurgia  febre  alcool  \\\n",
       "0      -0.33   0.69                 0         1         1      0     0.8   \n",
       "1      -0.33   0.94                 1         0         1      0     0.8   \n",
       "2      -0.33   0.50                 1         0         0      0     1.0   \n",
       "3      -0.33   0.75                 0         1         1      0     1.0   \n",
       "4      -0.33   0.67                 1         1         0      0     0.8   \n",
       "\n",
       "   fumo  horas_sentado  output  \n",
       "0     0           0.88       0  \n",
       "1     1           0.31       1  \n",
       "2    -1           0.50       0  \n",
       "3    -1           0.38       0  \n",
       "4    -1           0.50       1  "
      ]
     },
     "execution_count": 17,
     "metadata": {},
     "output_type": "execute_result"
    }
   ],
   "source": [
    "df.head(5)"
   ]
  },
  {
   "cell_type": "code",
   "execution_count": 18,
   "metadata": {},
   "outputs": [
    {
     "data": {
      "text/plain": [
       "temporada          -0.33\n",
       "idade               0.69\n",
       "doenças infantis    0.00\n",
       "acidente            1.00\n",
       "cirurgia            1.00\n",
       "febre               0.00\n",
       "alcool              0.80\n",
       "fumo                0.00\n",
       "horas_sentado       0.88\n",
       "output              0.00\n",
       "Name: 0, dtype: float64"
      ]
     },
     "execution_count": 18,
     "metadata": {},
     "output_type": "execute_result"
    }
   ],
   "source": [
    "df.iloc[0]"
   ]
  },
  {
   "cell_type": "code",
   "execution_count": 19,
   "metadata": {},
   "outputs": [
    {
     "data": {
      "text/plain": [
       "0.88"
      ]
     },
     "execution_count": 19,
     "metadata": {},
     "output_type": "execute_result"
    }
   ],
   "source": [
    "df.iloc[0][\"horas_sentado\"]"
   ]
  },
  {
   "cell_type": "code",
   "execution_count": 20,
   "metadata": {},
   "outputs": [
    {
     "data": {
      "text/plain": [
       "[-0.33, 0.75, 0.0, 1.0, 1.0, 0.0, 1.0, -1.0, 0.38, 0.0]"
      ]
     },
     "execution_count": 20,
     "metadata": {},
     "output_type": "execute_result"
    }
   ],
   "source": [
    "df.iloc[3].to_list()"
   ]
  },
  {
   "cell_type": "code",
   "execution_count": 21,
   "metadata": {},
   "outputs": [
    {
     "data": {
      "text/html": [
       "<div>\n",
       "<style scoped>\n",
       "    .dataframe tbody tr th:only-of-type {\n",
       "        vertical-align: middle;\n",
       "    }\n",
       "\n",
       "    .dataframe tbody tr th {\n",
       "        vertical-align: top;\n",
       "    }\n",
       "\n",
       "    .dataframe thead th {\n",
       "        text-align: right;\n",
       "    }\n",
       "</style>\n",
       "<table border=\"1\" class=\"dataframe\">\n",
       "  <thead>\n",
       "    <tr style=\"text-align: right;\">\n",
       "      <th></th>\n",
       "      <th>temporada</th>\n",
       "      <th>idade</th>\n",
       "      <th>doenças infantis</th>\n",
       "      <th>acidente</th>\n",
       "      <th>cirurgia</th>\n",
       "      <th>febre</th>\n",
       "      <th>alcool</th>\n",
       "      <th>fumo</th>\n",
       "      <th>horas_sentado</th>\n",
       "      <th>output</th>\n",
       "    </tr>\n",
       "  </thead>\n",
       "  <tbody>\n",
       "    <tr>\n",
       "      <th>0</th>\n",
       "      <td>-0.33</td>\n",
       "      <td>0.69</td>\n",
       "      <td>0</td>\n",
       "      <td>1</td>\n",
       "      <td>1</td>\n",
       "      <td>0</td>\n",
       "      <td>0.8</td>\n",
       "      <td>0</td>\n",
       "      <td>0.88</td>\n",
       "      <td>0</td>\n",
       "    </tr>\n",
       "    <tr>\n",
       "      <th>1</th>\n",
       "      <td>-0.33</td>\n",
       "      <td>0.94</td>\n",
       "      <td>1</td>\n",
       "      <td>0</td>\n",
       "      <td>1</td>\n",
       "      <td>0</td>\n",
       "      <td>0.8</td>\n",
       "      <td>1</td>\n",
       "      <td>0.31</td>\n",
       "      <td>1</td>\n",
       "    </tr>\n",
       "    <tr>\n",
       "      <th>2</th>\n",
       "      <td>-0.33</td>\n",
       "      <td>0.50</td>\n",
       "      <td>1</td>\n",
       "      <td>0</td>\n",
       "      <td>0</td>\n",
       "      <td>0</td>\n",
       "      <td>1.0</td>\n",
       "      <td>-1</td>\n",
       "      <td>0.50</td>\n",
       "      <td>0</td>\n",
       "    </tr>\n",
       "    <tr>\n",
       "      <th>3</th>\n",
       "      <td>-0.33</td>\n",
       "      <td>0.75</td>\n",
       "      <td>0</td>\n",
       "      <td>1</td>\n",
       "      <td>1</td>\n",
       "      <td>0</td>\n",
       "      <td>1.0</td>\n",
       "      <td>-1</td>\n",
       "      <td>0.38</td>\n",
       "      <td>0</td>\n",
       "    </tr>\n",
       "    <tr>\n",
       "      <th>4</th>\n",
       "      <td>-0.33</td>\n",
       "      <td>0.67</td>\n",
       "      <td>1</td>\n",
       "      <td>1</td>\n",
       "      <td>0</td>\n",
       "      <td>0</td>\n",
       "      <td>0.8</td>\n",
       "      <td>-1</td>\n",
       "      <td>0.50</td>\n",
       "      <td>1</td>\n",
       "    </tr>\n",
       "  </tbody>\n",
       "</table>\n",
       "</div>"
      ],
      "text/plain": [
       "   temporada  idade  doenças infantis  acidente  cirurgia  febre  alcool  \\\n",
       "0      -0.33   0.69                 0         1         1      0     0.8   \n",
       "1      -0.33   0.94                 1         0         1      0     0.8   \n",
       "2      -0.33   0.50                 1         0         0      0     1.0   \n",
       "3      -0.33   0.75                 0         1         1      0     1.0   \n",
       "4      -0.33   0.67                 1         1         0      0     0.8   \n",
       "\n",
       "   fumo  horas_sentado  output  \n",
       "0     0           0.88       0  \n",
       "1     1           0.31       1  \n",
       "2    -1           0.50       0  \n",
       "3    -1           0.38       0  \n",
       "4    -1           0.50       1  "
      ]
     },
     "execution_count": 21,
     "metadata": {},
     "output_type": "execute_result"
    }
   ],
   "source": [
    "df.head(5)"
   ]
  },
  {
   "cell_type": "code",
   "execution_count": 22,
   "metadata": {},
   "outputs": [],
   "source": [
    "A = df.iloc[0].to_list()\n",
    "B = df.iloc[1].to_list()"
   ]
  },
  {
   "cell_type": "code",
   "execution_count": 23,
   "metadata": {},
   "outputs": [
    {
     "data": {
      "text/plain": [
       "[-0.33, 0.69, 0.0, 1.0, 1.0, 0.0, 0.8, 0.0, 0.88, 0.0]"
      ]
     },
     "execution_count": 23,
     "metadata": {},
     "output_type": "execute_result"
    }
   ],
   "source": [
    "A"
   ]
  },
  {
   "cell_type": "code",
   "execution_count": 24,
   "metadata": {},
   "outputs": [
    {
     "data": {
      "text/plain": [
       "[-0.33, 0.94, 1.0, 0.0, 1.0, 0.0, 0.8, 1.0, 0.31, 1.0]"
      ]
     },
     "execution_count": 24,
     "metadata": {},
     "output_type": "execute_result"
    }
   ],
   "source": [
    "B"
   ]
  },
  {
   "cell_type": "code",
   "execution_count": 25,
   "metadata": {},
   "outputs": [
    {
     "data": {
      "text/plain": [
       "2.094612135933524"
      ]
     },
     "execution_count": 25,
     "metadata": {},
     "output_type": "execute_result"
    }
   ],
   "source": [
    "distancia_euclidiana(A, B)"
   ]
  },
  {
   "cell_type": "code",
   "execution_count": 26,
   "metadata": {},
   "outputs": [
    {
     "data": {
      "text/html": [
       "<div>\n",
       "<style scoped>\n",
       "    .dataframe tbody tr th:only-of-type {\n",
       "        vertical-align: middle;\n",
       "    }\n",
       "\n",
       "    .dataframe tbody tr th {\n",
       "        vertical-align: top;\n",
       "    }\n",
       "\n",
       "    .dataframe thead th {\n",
       "        text-align: right;\n",
       "    }\n",
       "</style>\n",
       "<table border=\"1\" class=\"dataframe\">\n",
       "  <thead>\n",
       "    <tr style=\"text-align: right;\">\n",
       "      <th></th>\n",
       "      <th>temporada</th>\n",
       "      <th>idade</th>\n",
       "      <th>doenças infantis</th>\n",
       "      <th>acidente</th>\n",
       "      <th>cirurgia</th>\n",
       "      <th>febre</th>\n",
       "      <th>alcool</th>\n",
       "      <th>fumo</th>\n",
       "      <th>horas_sentado</th>\n",
       "      <th>output</th>\n",
       "    </tr>\n",
       "  </thead>\n",
       "  <tbody>\n",
       "    <tr>\n",
       "      <th>0</th>\n",
       "      <td>-0.33</td>\n",
       "      <td>0.69</td>\n",
       "      <td>0</td>\n",
       "      <td>1</td>\n",
       "      <td>1</td>\n",
       "      <td>0</td>\n",
       "      <td>0.8</td>\n",
       "      <td>0</td>\n",
       "      <td>0.88</td>\n",
       "      <td>0</td>\n",
       "    </tr>\n",
       "    <tr>\n",
       "      <th>1</th>\n",
       "      <td>-0.33</td>\n",
       "      <td>0.94</td>\n",
       "      <td>1</td>\n",
       "      <td>0</td>\n",
       "      <td>1</td>\n",
       "      <td>0</td>\n",
       "      <td>0.8</td>\n",
       "      <td>1</td>\n",
       "      <td>0.31</td>\n",
       "      <td>1</td>\n",
       "    </tr>\n",
       "    <tr>\n",
       "      <th>2</th>\n",
       "      <td>-0.33</td>\n",
       "      <td>0.50</td>\n",
       "      <td>1</td>\n",
       "      <td>0</td>\n",
       "      <td>0</td>\n",
       "      <td>0</td>\n",
       "      <td>1.0</td>\n",
       "      <td>-1</td>\n",
       "      <td>0.50</td>\n",
       "      <td>0</td>\n",
       "    </tr>\n",
       "    <tr>\n",
       "      <th>3</th>\n",
       "      <td>-0.33</td>\n",
       "      <td>0.75</td>\n",
       "      <td>0</td>\n",
       "      <td>1</td>\n",
       "      <td>1</td>\n",
       "      <td>0</td>\n",
       "      <td>1.0</td>\n",
       "      <td>-1</td>\n",
       "      <td>0.38</td>\n",
       "      <td>0</td>\n",
       "    </tr>\n",
       "    <tr>\n",
       "      <th>4</th>\n",
       "      <td>-0.33</td>\n",
       "      <td>0.67</td>\n",
       "      <td>1</td>\n",
       "      <td>1</td>\n",
       "      <td>0</td>\n",
       "      <td>0</td>\n",
       "      <td>0.8</td>\n",
       "      <td>-1</td>\n",
       "      <td>0.50</td>\n",
       "      <td>1</td>\n",
       "    </tr>\n",
       "  </tbody>\n",
       "</table>\n",
       "</div>"
      ],
      "text/plain": [
       "   temporada  idade  doenças infantis  acidente  cirurgia  febre  alcool  \\\n",
       "0      -0.33   0.69                 0         1         1      0     0.8   \n",
       "1      -0.33   0.94                 1         0         1      0     0.8   \n",
       "2      -0.33   0.50                 1         0         0      0     1.0   \n",
       "3      -0.33   0.75                 0         1         1      0     1.0   \n",
       "4      -0.33   0.67                 1         1         0      0     0.8   \n",
       "\n",
       "   fumo  horas_sentado  output  \n",
       "0     0           0.88       0  \n",
       "1     1           0.31       1  \n",
       "2    -1           0.50       0  \n",
       "3    -1           0.38       0  \n",
       "4    -1           0.50       1  "
      ]
     },
     "execution_count": 26,
     "metadata": {},
     "output_type": "execute_result"
    }
   ],
   "source": [
    "df.head(5)"
   ]
  },
  {
   "cell_type": "markdown",
   "metadata": {},
   "source": [
    "# ALGORITMO DO KNN : \n",
    "\n",
    "\n",
    "- indicar o valor de K \n",
    "\n",
    "- calcular a distância do ponto '+' até todos os pontos do dataset\n",
    "\n",
    "- ordenar as distâncias em ordem crescente \n",
    "\n",
    "- pegar as K menores distâncias (ou seja, selecionar os K pontos mais próximos) \n",
    "\n",
    "- verificar qual a categoria mais votada dentre os K pontos selecionados \n",
    "\n",
    "- atribuir a categoria mais votada para o ponto '+'\n",
    "\n"
   ]
  },
  {
   "cell_type": "code",
   "execution_count": 27,
   "metadata": {},
   "outputs": [
    {
     "data": {
      "text/plain": [
       "(100, 10)"
      ]
     },
     "execution_count": 27,
     "metadata": {},
     "output_type": "execute_result"
    }
   ],
   "source": [
    "df.shape"
   ]
  },
  {
   "cell_type": "code",
   "execution_count": 28,
   "metadata": {},
   "outputs": [
    {
     "data": {
      "text/plain": [
       "10.0"
      ]
     },
     "execution_count": 28,
     "metadata": {},
     "output_type": "execute_result"
    }
   ],
   "source": [
    "import math\n",
    "math.sqrt(100)"
   ]
  },
  {
   "cell_type": "code",
   "execution_count": 29,
   "metadata": {},
   "outputs": [],
   "source": [
    "def info_dataset(df): \n",
    "    total_positivo = 0\n",
    "    total_negativo = 0\n",
    "    for i in range(df.shape[0]):\n",
    "        if df.iloc[i][\"output\"] == 1:\n",
    "            total_positivo += 1\n",
    "        else:\n",
    "            total_negativo += 1\n",
    "    return df.shape[0], total_positivo, total_negativo"
   ]
  },
  {
   "cell_type": "code",
   "execution_count": 30,
   "metadata": {},
   "outputs": [
    {
     "data": {
      "text/plain": [
       "(88, 10)"
      ]
     },
     "execution_count": 30,
     "metadata": {},
     "output_type": "execute_result"
    }
   ],
   "source": [
    "df[df[\"output\"] == 0].shape"
   ]
  },
  {
   "cell_type": "code",
   "execution_count": 31,
   "metadata": {},
   "outputs": [
    {
     "name": "stdout",
     "output_type": "stream",
     "text": [
      "Total de amostras: 100\n",
      "\tTotal de amostras positivas: 12\n",
      "\tTotal de amostras negativas: 88\n"
     ]
    }
   ],
   "source": [
    "n, n_pos, n_neg = info_dataset(df)\n",
    "print(\"Total de amostras: \" + str(n))\n",
    "print(\"\\tTotal de amostras positivas: \" + str(n_pos))\n",
    "print(\"\\tTotal de amostras negativas: \" + str(n_neg))"
   ]
  },
  {
   "cell_type": "code",
   "execution_count": 32,
   "metadata": {},
   "outputs": [
    {
     "data": {
      "text/plain": [
       "11"
      ]
     },
     "execution_count": 32,
     "metadata": {},
     "output_type": "execute_result"
    }
   ],
   "source": [
    "k = int(math.sqrt(n))\n",
    "if k % 2 == 0:\n",
    "    k += 1\n",
    "k"
   ]
  },
  {
   "cell_type": "code",
   "execution_count": 33,
   "metadata": {},
   "outputs": [],
   "source": [
    "# dataset = lista de índices dos valores do dataframe a sere usados como treinamento\n",
    "def knn(dataset, amostra, k): \n",
    "    \n",
    "    #calcular a distância do ponto 'amostra' até todos os pontos do dataset\n",
    "    distancias = {}\n",
    "    for i in dataset: \n",
    "        d = distancia_euclidiana(amostra, df.iloc[i].to_list())\n",
    "        distancias[i] = d\n",
    "\n",
    "    #ordenar as distâncias em ordem crescente e pegar as K menores distâncias \n",
    "    #(ou seja, selecionar os K pontos mais próximos)\n",
    "    pontos_proximos = sorted(distancias, key=distancias.get)[:k]\n",
    "\n",
    "    #verificar qual a categoria mais votada dentre os K pontos selecionados\n",
    "    quantidade_pos = 0\n",
    "    quantidade_neg = 0\n",
    "    for ponto in pontos_proximos:\n",
    "        if df.iloc[ponto][\"output\"] == 1:\n",
    "            quantidade_pos += 1\n",
    "        else:\n",
    "            quantidade_neg += 0\n",
    "\n",
    "    #atribuir a categoria mais votada para o ponto 'amostra'\n",
    "    if quantidade_pos > quantidade_neg:\n",
    "        return 1\n",
    "    else: \n",
    "        return 0"
   ]
  },
  {
   "cell_type": "code",
   "execution_count": 34,
   "metadata": {},
   "outputs": [
    {
     "data": {
      "text/plain": [
       "1"
      ]
     },
     "execution_count": 34,
     "metadata": {},
     "output_type": "execute_result"
    }
   ],
   "source": [
    "dataset = [1, 4, 7, 9, 20, 56, 78, 34, 55, 67 , 69, 20, 33, 25, 31, 32]\n",
    "amostra = [-0.33, 0.69, 0.0, 1.0, 1.0, 0.0, 0.8, 0.0, 0.88, 0.0]\n",
    "resposta = knn(dataset, amostra, k)\n",
    "resposta"
   ]
  },
  {
   "cell_type": "code",
   "execution_count": 35,
   "metadata": {},
   "outputs": [],
   "source": [
    "# Divisão do dataframe em treino e teste \n",
    "porcentagem = 0.8\n",
    "\n",
    "treinamento = []\n",
    "teste = []\n",
    "\n",
    "treinoPos = 0\n",
    "treinoNeg = 0\n",
    "for i in range(df.shape[0]):\n",
    "    if df.iloc[i][\"output\"] == 1:\n",
    "        if treinoPos <= n_pos * porcentagem: \n",
    "            treinamento.append(i)\n",
    "            treinoPos += 1\n",
    "        else: \n",
    "            teste.append(i)\n",
    "    else:\n",
    "        if treinoNeg <= n_neg * porcentagem: \n",
    "            treinamento.append(i)\n",
    "            treinoNeg += 1\n",
    "        else: \n",
    "            teste.append(i)"
   ]
  },
  {
   "cell_type": "code",
   "execution_count": 36,
   "metadata": {},
   "outputs": [
    {
     "data": {
      "text/plain": [
       "81"
      ]
     },
     "execution_count": 36,
     "metadata": {},
     "output_type": "execute_result"
    }
   ],
   "source": [
    "len(treinamento)"
   ]
  },
  {
   "cell_type": "code",
   "execution_count": 37,
   "metadata": {},
   "outputs": [
    {
     "data": {
      "text/plain": [
       "19"
      ]
     },
     "execution_count": 37,
     "metadata": {},
     "output_type": "execute_result"
    }
   ],
   "source": [
    "len(teste)"
   ]
  },
  {
   "cell_type": "code",
   "execution_count": 38,
   "metadata": {},
   "outputs": [
    {
     "data": {
      "text/plain": [
       "[0,\n",
       " 1,\n",
       " 2,\n",
       " 3,\n",
       " 4,\n",
       " 5,\n",
       " 6,\n",
       " 7,\n",
       " 8,\n",
       " 9,\n",
       " 10,\n",
       " 11,\n",
       " 12,\n",
       " 13,\n",
       " 14,\n",
       " 15,\n",
       " 16,\n",
       " 17,\n",
       " 18,\n",
       " 19,\n",
       " 20,\n",
       " 21,\n",
       " 22,\n",
       " 23,\n",
       " 24,\n",
       " 25,\n",
       " 26,\n",
       " 27,\n",
       " 28,\n",
       " 29,\n",
       " 30,\n",
       " 31,\n",
       " 32,\n",
       " 33,\n",
       " 34,\n",
       " 35,\n",
       " 36,\n",
       " 37,\n",
       " 38,\n",
       " 39,\n",
       " 40,\n",
       " 41,\n",
       " 42,\n",
       " 43,\n",
       " 44,\n",
       " 45,\n",
       " 46,\n",
       " 47,\n",
       " 48,\n",
       " 49,\n",
       " 50,\n",
       " 51,\n",
       " 52,\n",
       " 53,\n",
       " 54,\n",
       " 55,\n",
       " 56,\n",
       " 57,\n",
       " 58,\n",
       " 59,\n",
       " 60,\n",
       " 61,\n",
       " 62,\n",
       " 63,\n",
       " 64,\n",
       " 65,\n",
       " 66,\n",
       " 67,\n",
       " 68,\n",
       " 69,\n",
       " 70,\n",
       " 71,\n",
       " 72,\n",
       " 73,\n",
       " 74,\n",
       " 75,\n",
       " 76,\n",
       " 77,\n",
       " 78,\n",
       " 79,\n",
       " 80]"
      ]
     },
     "execution_count": 38,
     "metadata": {},
     "output_type": "execute_result"
    }
   ],
   "source": [
    "treinamento"
   ]
  },
  {
   "cell_type": "code",
   "execution_count": 39,
   "metadata": {},
   "outputs": [
    {
     "name": "stdout",
     "output_type": "stream",
     "text": [
      "Total de amostras positivas no TREINAMENTO: 10\n",
      "Total de amostras negativas no TREINAMENTO: 71\n"
     ]
    }
   ],
   "source": [
    "pos = 0\n",
    "neg = 0\n",
    "for i in treinamento: \n",
    "    if df.iloc[i][\"output\"] == 1:\n",
    "        pos += 1\n",
    "    else:\n",
    "        neg += 1\n",
    "print(\"Total de amostras positivas no TREINAMENTO: \" + str(pos))\n",
    "print(\"Total de amostras negativas no TREINAMENTO: \" + str(neg))"
   ]
  },
  {
   "cell_type": "code",
   "execution_count": 40,
   "metadata": {},
   "outputs": [
    {
     "data": {
      "text/plain": [
       "[81, 82, 83, 84, 85, 86, 87, 88, 89, 90, 91, 92, 93, 94, 95, 96, 97, 98, 99]"
      ]
     },
     "execution_count": 40,
     "metadata": {},
     "output_type": "execute_result"
    }
   ],
   "source": [
    "teste"
   ]
  },
  {
   "cell_type": "code",
   "execution_count": 41,
   "metadata": {},
   "outputs": [
    {
     "name": "stdout",
     "output_type": "stream",
     "text": [
      "Amostra 81 | Verdade: 0.0 | Predicao: 0\n",
      "Amostra 82 | Verdade: 0.0 | Predicao: 0\n",
      "Amostra 83 | Verdade: 0.0 | Predicao: 0\n",
      "Amostra 84 | Verdade: 1.0 | Predicao: 1\n",
      "Amostra 85 | Verdade: 0.0 | Predicao: 0\n",
      "Amostra 86 | Verdade: 0.0 | Predicao: 1\n",
      "Amostra 87 | Verdade: 0.0 | Predicao: 0\n",
      "Amostra 88 | Verdade: 0.0 | Predicao: 0\n",
      "Amostra 89 | Verdade: 0.0 | Predicao: 1\n",
      "Amostra 90 | Verdade: 0.0 | Predicao: 0\n",
      "Amostra 91 | Verdade: 0.0 | Predicao: 1\n",
      "Amostra 92 | Verdade: 0.0 | Predicao: 1\n",
      "Amostra 93 | Verdade: 1.0 | Predicao: 1\n",
      "Amostra 94 | Verdade: 0.0 | Predicao: 1\n",
      "Amostra 95 | Verdade: 0.0 | Predicao: 0\n",
      "Amostra 96 | Verdade: 0.0 | Predicao: 0\n",
      "Amostra 97 | Verdade: 0.0 | Predicao: 0\n",
      "Amostra 98 | Verdade: 0.0 | Predicao: 0\n",
      "Amostra 99 | Verdade: 0.0 | Predicao: 0\n",
      "\n",
      "O total de acertos é: 14\n",
      "A acurária do KNN é: 73.68%\n"
     ]
    }
   ],
   "source": [
    "acertos = 0\n",
    "for i in teste: \n",
    "    amostra = df.iloc[i].to_list()\n",
    "    label = df.iloc[i][\"output\"]\n",
    "    resposta = knn(treinamento, amostra, k)\n",
    "    print(f\"Amostra {i} | Verdade: {label} | Predicao: {resposta}\")\n",
    "    \n",
    "    if resposta == label: \n",
    "        acertos += 1   # acertos = acertos + 1\n",
    "\n",
    "\n",
    "acc = (acertos / len(teste)) * 100\n",
    "\n",
    "print(f\"\\nO total de acertos é: {acertos}\")\n",
    "print(f\"A acurária do KNN é: {acc:.2f}%\")"
   ]
  },
  {
   "cell_type": "markdown",
   "metadata": {},
   "source": [
    "## Na próxima aula! \n",
    "\n",
    "Vamos obter as métricas de avaliação do KNN continuando esse código, e também vendo uma forma de utilização do KNN a partir de bibliotecas de Python!"
   ]
  },
  {
   "cell_type": "code",
   "execution_count": 42,
   "metadata": {},
   "outputs": [
    {
     "data": {
      "text/plain": [
       "[-1.0, 0.69, 0.0, 1.0, 1.0, 0.0, 0.6, -1.0, 0.19, 0.0]"
      ]
     },
     "execution_count": 42,
     "metadata": {},
     "output_type": "execute_result"
    }
   ],
   "source": [
    "amostra"
   ]
  },
  {
   "cell_type": "code",
   "execution_count": null,
   "metadata": {},
   "outputs": [],
   "source": []
  }
 ],
 "metadata": {
  "kernelspec": {
   "display_name": "Python 3",
   "language": "python",
   "name": "python3"
  },
  "language_info": {
   "codemirror_mode": {
    "name": "ipython",
    "version": 3
   },
   "file_extension": ".py",
   "mimetype": "text/x-python",
   "name": "python",
   "nbconvert_exporter": "python",
   "pygments_lexer": "ipython3",
   "version": "3.8.5"
  }
 },
 "nbformat": 4,
 "nbformat_minor": 4
}
