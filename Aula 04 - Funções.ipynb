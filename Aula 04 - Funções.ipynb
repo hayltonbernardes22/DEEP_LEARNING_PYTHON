{
 "cells": [
  {
   "cell_type": "markdown",
   "metadata": {},
   "source": [
    "# Aula 04"
   ]
  },
  {
   "cell_type": "code",
   "execution_count": 49,
   "metadata": {},
   "outputs": [],
   "source": [
    "import math"
   ]
  },
  {
   "cell_type": "markdown",
   "metadata": {},
   "source": [
    "## Funcoes"
   ]
  },
  {
   "cell_type": "code",
   "execution_count": 1,
   "metadata": {},
   "outputs": [],
   "source": [
    "# Exemplo 1\n",
    "def encontra_maior(x,y):\n",
    "    try:\n",
    "        x = float(x)\n",
    "        y = float(y)\n",
    "        #if (type(x) == int or type(x) == float) and (type(y) == int or type(y) == float):\n",
    "        if x > y:\n",
    "            print(\"O numero {} e' maior que o {}\".format(x,y))\n",
    "        elif y > x:\n",
    "            print(\"O numero {} e' maior que o {}\".format(y,x))\n",
    "        elif x == y:\n",
    "            print(\"Ambos os numeros sao iguais: {}\".format(x))\n",
    "    except:\n",
    "        print(\"Pelo menos um dos argumentos nao sao numericos\")\n",
    "\n",
    "        \n",
    "\n",
    "def espaco():\n",
    "    print('\\n')"
   ]
  },
  {
   "cell_type": "code",
   "execution_count": 2,
   "metadata": {},
   "outputs": [
    {
     "name": "stdout",
     "output_type": "stream",
     "text": [
      "O numero 4.0 e' maior que o 3.8\n",
      "\n",
      "\n",
      "Ambos os numeros sao iguais: 99.0\n",
      "\n",
      "\n",
      "O numero 97.388893293893 e' maior que o 97.388\n",
      "\n",
      "\n",
      "Ambos os numeros sao iguais: 4.0\n"
     ]
    }
   ],
   "source": [
    "encontra_maior(3.8,4)\n",
    "espaco()\n",
    "encontra_maior(99,99.0)\n",
    "espaco()\n",
    "encontra_maior(97.388,97.388893293893)\n",
    "espaco()\n",
    "encontra_maior(4,'4.0')"
   ]
  },
  {
   "cell_type": "code",
   "execution_count": 3,
   "metadata": {},
   "outputs": [],
   "source": [
    "# Exemplo 2\n",
    "def soma_valores_lista(lista):\n",
    "    total = 0\n",
    "    if type(lista) == list:\n",
    "        for i in lista:\n",
    "            try:\n",
    "                i = float(i)\n",
    "            except:\n",
    "                print(\"A lista possui pelo menos um valor sting\")\n",
    "                break\n",
    "            total += i\n",
    "        print(\"A soma dos valores da lista acima e' de {}\".format(total))\n",
    "    else:\n",
    "        print(\"Voce nao inseriu uma lista!\")"
   ]
  },
  {
   "cell_type": "code",
   "execution_count": 4,
   "metadata": {},
   "outputs": [
    {
     "name": "stdout",
     "output_type": "stream",
     "text": [
      "A soma dos valores da lista acima e' de 12519.75835\n",
      "\n",
      "\n",
      "Voce nao inseriu uma lista!\n",
      "\n",
      "\n",
      "A lista possui pelo menos um valor sting\n",
      "A soma dos valores da lista acima e' de 7876.9400000000005\n"
     ]
    }
   ],
   "source": [
    "lista1 = [1,4.544,3546.4,4325,32,4.57435,364.24,3654,587,1]\n",
    "lista2 = 9\n",
    "lista3 = [1,4.54,3546.4,4325,'e',32,4.57,364.24,3654,587,1]\n",
    "\n",
    "soma_valores_lista(lista1)\n",
    "espaco()\n",
    "soma_valores_lista(lista2)\n",
    "espaco()\n",
    "soma_valores_lista(lista3)"
   ]
  },
  {
   "cell_type": "markdown",
   "metadata": {},
   "source": [
    "## Hands on"
   ]
  },
  {
   "cell_type": "code",
   "execution_count": 55,
   "metadata": {},
   "outputs": [],
   "source": [
    "# Funcao de segundo grau\n",
    "def segundo_grau(a,b,c):\n",
    "    \n",
    "    try:\n",
    "        a = float(a)\n",
    "        b = float(b)\n",
    "        c = float(c)\n",
    "    except:\n",
    "        print(\"Voce nao colocou um numero em pelo menos uma das variaveis\")\n",
    "        \n",
    "    if a != 0:\n",
    "        delta = b*b - (4*a*c)\n",
    "        if delta >= 0:\n",
    "            raiz = math.sqrt(delta)\n",
    "            \n",
    "            x1 = (-b + raiz)/2*a\n",
    "            x2 = (-b - raiz)/2*a\n",
    "            print(\"Os Valores finais para esta equacao do segundo grau sao:\\n X1 = {}\\n X2 = {}\".format(x1,x2))\n",
    "        else:\n",
    "            print(\"O Delta e' menor que zero, nao podemos tirar a raiz de negativo\")\n",
    "    else:\n",
    "        print(\"O valor de a = 0, pertencendo portanto a uma equacao de primeiro grau\")"
   ]
  },
  {
   "cell_type": "code",
   "execution_count": 45,
   "metadata": {},
   "outputs": [
    {
     "name": "stdout",
     "output_type": "stream",
     "text": [
      "Os Valores finais para esta equacao do segundo grau sao:\n",
      " X1 = 0.0\n",
      " X2 = -30.0\n",
      "\n",
      "\n",
      "O Delta e' menor que zero, nao podemos tirar a raiz de negativo\n",
      "\n",
      "\n",
      "Voce nao colocou um numero em pelo menos uma das variaveis\n"
     ]
    },
    {
     "ename": "TypeError",
     "evalue": "can't multiply sequence by non-int of type 'float'",
     "output_type": "error",
     "traceback": [
      "\u001b[0;31m---------------------------------------------------------------------------\u001b[0m",
      "\u001b[0;31mTypeError\u001b[0m                                 Traceback (most recent call last)",
      "\u001b[0;32m<ipython-input-45-fcbd537062b0>\u001b[0m in \u001b[0;36m<module>\u001b[0;34m\u001b[0m\n\u001b[1;32m      3\u001b[0m \u001b[0msegundo_grau\u001b[0m\u001b[0;34m(\u001b[0m\u001b[0;36m3.0\u001b[0m\u001b[0;34m,\u001b[0m\u001b[0;34m'10'\u001b[0m\u001b[0;34m,\u001b[0m\u001b[0;34m'30'\u001b[0m\u001b[0;34m)\u001b[0m\u001b[0;34m\u001b[0m\u001b[0;34m\u001b[0m\u001b[0m\n\u001b[1;32m      4\u001b[0m \u001b[0mespaco\u001b[0m\u001b[0;34m(\u001b[0m\u001b[0;34m)\u001b[0m\u001b[0;34m\u001b[0m\u001b[0;34m\u001b[0m\u001b[0m\n\u001b[0;32m----> 5\u001b[0;31m \u001b[0msegundo_grau\u001b[0m\u001b[0;34m(\u001b[0m\u001b[0;36m3.0\u001b[0m\u001b[0;34m,\u001b[0m\u001b[0;34m'10'\u001b[0m\u001b[0;34m,\u001b[0m\u001b[0;34m'a'\u001b[0m\u001b[0;34m)\u001b[0m\u001b[0;34m\u001b[0m\u001b[0;34m\u001b[0m\u001b[0m\n\u001b[0m\u001b[1;32m      6\u001b[0m \u001b[0mespaco\u001b[0m\u001b[0;34m(\u001b[0m\u001b[0;34m)\u001b[0m\u001b[0;34m\u001b[0m\u001b[0;34m\u001b[0m\u001b[0m\n",
      "\u001b[0;32m<ipython-input-44-4e86cd7ac0f3>\u001b[0m in \u001b[0;36msegundo_grau\u001b[0;34m(a, b, c)\u001b[0m\n\u001b[1;32m      8\u001b[0m         \u001b[0mprint\u001b[0m\u001b[0;34m(\u001b[0m\u001b[0;34m\"Voce nao colocou um numero em pelo menos uma das variaveis\"\u001b[0m\u001b[0;34m)\u001b[0m\u001b[0;34m\u001b[0m\u001b[0;34m\u001b[0m\u001b[0m\n\u001b[1;32m      9\u001b[0m     \u001b[0;32mif\u001b[0m \u001b[0ma\u001b[0m \u001b[0;34m!=\u001b[0m \u001b[0;36m0\u001b[0m\u001b[0;34m:\u001b[0m\u001b[0;34m\u001b[0m\u001b[0;34m\u001b[0m\u001b[0m\n\u001b[0;32m---> 10\u001b[0;31m         \u001b[0mdelta\u001b[0m \u001b[0;34m=\u001b[0m \u001b[0mb\u001b[0m\u001b[0;34m**\u001b[0m\u001b[0;36m2\u001b[0m \u001b[0;34m-\u001b[0m \u001b[0;34m(\u001b[0m\u001b[0;36m4\u001b[0m\u001b[0;34m*\u001b[0m\u001b[0ma\u001b[0m\u001b[0;34m*\u001b[0m\u001b[0mc\u001b[0m\u001b[0;34m)\u001b[0m\u001b[0;34m\u001b[0m\u001b[0;34m\u001b[0m\u001b[0m\n\u001b[0m\u001b[1;32m     11\u001b[0m         \u001b[0;32mif\u001b[0m \u001b[0mdelta\u001b[0m \u001b[0;34m>=\u001b[0m \u001b[0;36m0\u001b[0m\u001b[0;34m:\u001b[0m\u001b[0;34m\u001b[0m\u001b[0;34m\u001b[0m\u001b[0m\n\u001b[1;32m     12\u001b[0m             \u001b[0mraiz\u001b[0m \u001b[0;34m=\u001b[0m \u001b[0mmath\u001b[0m\u001b[0;34m.\u001b[0m\u001b[0msqrt\u001b[0m\u001b[0;34m(\u001b[0m\u001b[0mdelta\u001b[0m\u001b[0;34m)\u001b[0m\u001b[0;34m\u001b[0m\u001b[0;34m\u001b[0m\u001b[0m\n",
      "\u001b[0;31mTypeError\u001b[0m: can't multiply sequence by non-int of type 'float'"
     ]
    }
   ],
   "source": [
    "segundo_grau(3.0,'10',0)\n",
    "espaco()\n",
    "segundo_grau(3.0,'10','30')\n",
    "espaco()\n",
    "segundo_grau(3.0,'10','a')\n",
    "espaco()"
   ]
  },
  {
   "cell_type": "code",
   "execution_count": 51,
   "metadata": {},
   "outputs": [
    {
     "name": "stdout",
     "output_type": "stream",
     "text": [
      "Calculando as raízes de uma equação de 2º grau\n",
      "\n",
      "Entre com o valor de a: 5\n",
      "Entre com o valor de b: 20\n",
      "Entre com o valor de c: 4\n",
      "\n",
      "Os Valores finais para esta equacao do segundo grau sao:\n",
      " X1 = -5.278640450004204\n",
      " X2 = -94.7213595499958\n",
      "\n",
      "Deseja sair? Digite q ou Enter para novo cálculo:\n",
      "Calculando as raízes de uma equação de 2º grau\n",
      "\n",
      "Entre com o valor de a: 70\n",
      "Entre com o valor de b: 4\n",
      "Entre com o valor de c: 0\n",
      "\n",
      "Os Valores finais para esta equacao do segundo grau sao:\n",
      " X1 = 0.0\n",
      " X2 = -280.0\n",
      "\n",
      "Deseja sair? Digite q ou Enter para novo cálculo:0\n",
      "Calculando as raízes de uma equação de 2º grau\n",
      "\n",
      "Entre com o valor de a: 0\n",
      "Entre com o valor de b: 6\n",
      "Entre com o valor de c: 3\n",
      "\n",
      "O valor de a = 0, pertencendo portanto a uma equacao de primeiro grau\n",
      "\n",
      "Deseja sair? Digite q ou Enter para novo cálculo:'4'\n",
      "Calculando as raízes de uma equação de 2º grau\n",
      "\n",
      "Entre com o valor de a: '4'\n"
     ]
    },
    {
     "ename": "ValueError",
     "evalue": "could not convert string to float: \"'4'\"",
     "output_type": "error",
     "traceback": [
      "\u001b[0;31m---------------------------------------------------------------------------\u001b[0m",
      "\u001b[0;31mValueError\u001b[0m                                Traceback (most recent call last)",
      "\u001b[0;32m<ipython-input-51-1dca6801b806>\u001b[0m in \u001b[0;36m<module>\u001b[0;34m\u001b[0m\n\u001b[1;32m     25\u001b[0m     \u001b[0;32mwhile\u001b[0m \u001b[0;32mTrue\u001b[0m\u001b[0;34m:\u001b[0m\u001b[0;34m\u001b[0m\u001b[0;34m\u001b[0m\u001b[0m\n\u001b[1;32m     26\u001b[0m         \u001b[0mprint\u001b[0m\u001b[0;34m(\u001b[0m\u001b[0;34m'Calculando as raízes de uma equação de 2º grau\\n'\u001b[0m\u001b[0;34m)\u001b[0m\u001b[0;34m\u001b[0m\u001b[0;34m\u001b[0m\u001b[0m\n\u001b[0;32m---> 27\u001b[0;31m         \u001b[0ma\u001b[0m \u001b[0;34m=\u001b[0m \u001b[0mfloat\u001b[0m\u001b[0;34m(\u001b[0m\u001b[0minput\u001b[0m\u001b[0;34m(\u001b[0m\u001b[0;34m'Entre com o valor de a: '\u001b[0m\u001b[0;34m)\u001b[0m\u001b[0;34m)\u001b[0m\u001b[0;34m\u001b[0m\u001b[0;34m\u001b[0m\u001b[0m\n\u001b[0m\u001b[1;32m     28\u001b[0m         \u001b[0mb\u001b[0m \u001b[0;34m=\u001b[0m \u001b[0mfloat\u001b[0m\u001b[0;34m(\u001b[0m\u001b[0minput\u001b[0m\u001b[0;34m(\u001b[0m\u001b[0;34m'Entre com o valor de b: '\u001b[0m\u001b[0;34m)\u001b[0m\u001b[0;34m)\u001b[0m\u001b[0;34m\u001b[0m\u001b[0;34m\u001b[0m\u001b[0m\n\u001b[1;32m     29\u001b[0m         \u001b[0mc\u001b[0m \u001b[0;34m=\u001b[0m \u001b[0mfloat\u001b[0m\u001b[0;34m(\u001b[0m\u001b[0minput\u001b[0m\u001b[0;34m(\u001b[0m\u001b[0;34m'Entre com o valor de c: '\u001b[0m\u001b[0;34m)\u001b[0m\u001b[0;34m)\u001b[0m\u001b[0;34m\u001b[0m\u001b[0;34m\u001b[0m\u001b[0m\n",
      "\u001b[0;31mValueError\u001b[0m: could not convert string to float: \"'4'\""
     ]
    }
   ],
   "source": [
    "# Funcao de segundo grau\n",
    "def segundo_grau(a,b,c):\n",
    "    try:\n",
    "        a = float(a)\n",
    "        b = float(b)\n",
    "        c = float(c)\n",
    "    except:\n",
    "        print(\"\\nVoce nao colocou um numero em pelo menos uma das variaveis\")\n",
    "    if a != 0:\n",
    "        delta = b**2 - (4*a*c)\n",
    "        if delta >= 0:\n",
    "            raiz = math.sqrt(delta)\n",
    "\n",
    "            x1 = (-b + raiz)/2*a\n",
    "            x2 = (-b - raiz)/2*a\n",
    "\n",
    "            print(\"\\nOs Valores finais para esta equacao do segundo grau sao:\\n X1 = {}\\n X2 = {}\".format(x1,x2))\n",
    "\n",
    "        else:\n",
    "            print(\"\\nO Delta e' menor que zero, nao podemos tirar a raiz de negativo\")\n",
    "    else:\n",
    "        print(\"\\nO valor de a = 0, pertencendo portanto a uma equacao de primeiro grau\")\n",
    "        \n",
    "if __name__ == '__main__':\n",
    "    while True:\n",
    "        print('Calculando as raízes de uma equação de 2º grau\\n')\n",
    "        a = float(input('Entre com o valor de a: '))\n",
    "        b = float(input('Entre com o valor de b: '))\n",
    "        c = float(input('Entre com o valor de c: '))\n",
    "        segundo_grau(a,b,c)\n",
    "\n",
    "        continua = input('\\nDeseja sair? Digite q ou Enter para novo cálculo:')\n",
    "        if (continua == 'q'):\n",
    "            break"
   ]
  },
  {
   "cell_type": "code",
   "execution_count": 57,
   "metadata": {},
   "outputs": [
    {
     "name": "stdout",
     "output_type": "stream",
     "text": [
      "Calculando as raízes de uma equação de 2º grau\n",
      "\n",
      "Qual valor do Capital Inicial: 3000\n",
      "Qual valor da taxa de juros: 6\n",
      "Qual o periodo: 3\n",
      "\n",
      "O montante ao termino de 3.0 anos sera de 1029000.0 reais\n",
      "Deseja sair? Digite q ou Enter para novo cálculo:\n",
      "\n",
      "Calculando as raízes de uma equação de 2º grau\n",
      "\n",
      "Qual valor do Capital Inicial: 10000\n",
      "Qual valor da taxa de juros: 0.01\n",
      "Qual o periodo: 2\n",
      "\n",
      "O montante ao termino de 2.0 anos sera de 10201.0 reais\n",
      "Deseja sair? Digite q ou Enter para novo cálculo:\n",
      "q\n"
     ]
    }
   ],
   "source": [
    "# Exercicio 2\n",
    "\n",
    "# Juros compostos\n",
    "def juros_compostos(c,j,t=1):\n",
    "    montante = c*(1+j)**t\n",
    "    print(\"\\nO montante ao termino de {} anos sera de {} reais\".format(t,montante))\n",
    "\n",
    "if __name__ == '__main__':\n",
    "    while True:\n",
    "        print('Calculando as raízes de uma equação de 2º grau\\n')\n",
    "        c = float(input('Qual valor do Capital Inicial: '))\n",
    "        j = float(input('Qual valor da taxa de juros: '))\n",
    "        t = float(input('Qual o periodo: '))\n",
    "        juros_compostos(c,j,t)\n",
    "\n",
    "        continua = input('Deseja sair? Digite q ou Enter para novo cálculo:\\n')\n",
    "        if (continua == 'q'):\n",
    "            break"
   ]
  }
 ],
 "metadata": {
  "kernelspec": {
   "display_name": "Python 3",
   "language": "python",
   "name": "python3"
  },
  "language_info": {
   "codemirror_mode": {
    "name": "ipython",
    "version": 3
   },
   "file_extension": ".py",
   "mimetype": "text/x-python",
   "name": "python",
   "nbconvert_exporter": "python",
   "pygments_lexer": "ipython3",
   "version": "3.7.6"
  }
 },
 "nbformat": 4,
 "nbformat_minor": 4
}
